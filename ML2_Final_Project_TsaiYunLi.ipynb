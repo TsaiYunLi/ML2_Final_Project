{
 "cells": [
  {
   "cell_type": "markdown",
   "metadata": {},
   "source": [
    "### DTSA 5510 Unsupervised Algorithms in Machine Learning Final Project\n",
    "Project Title: Predicting Sleep Quality Level: Supervised vs. Unsupervised Machine Learning Methods <br>\n",
    "Date: 2023 Oct 28 <br>\n",
    "Author: Tsai-Yun Li <br>\n",
    "Course Lecturer: Geena Kim <br>\n",
    "Organization: University of Colorado Boulder <br>\n",
    "Github repo URL of this project: https://github.com/TsaiYunLi/ML2_Final_Project"
   ]
  },
  {
   "cell_type": "markdown",
   "metadata": {},
   "source": [
    "### Table of Content\n",
    "<br>1. Problem Description<br>\n",
    "<br>2. Data Description and Data Cleaning<br>\n",
    "<br>3. Exploratory Data Analysis (EDA)<br>\n",
    "<br>4. Analysis: Model Building, Training, Testing, Evaluation <br>\n",
    "<br>4.1 Data Splitting <br>\n",
    "<br>4.2 Pure Supervised Approach: Support Vector Machine (SVM) <br>\n",
    "<br>4.3 Unsupervised + Supervised Hybrid Approach 1: K-means Clustering + SVM <br>\n",
    "<br>4.4 Unsupervised + Supervised Hybrid Approach 2: Agglomerative Hierarchical Clustering + SVM <br>\n",
    "<br>5. Model Comparison<br>\n",
    "<br>6. Conclusion and Discussion/Limitation<br>\n",
    "<br>7. References"
   ]
  },
  {
   "cell_type": "markdown",
   "metadata": {},
   "source": [
    "### 1. Problem Description\n",
    "This project can be viewed as a continued project of the DTSA 5509 final project \"Predicting Sleep Quality with Supervised Machine Learning Methods: A Case Study.\" It predicted whether the subject slept well or not, i.e., simplified the multi-level sleep quality level prediction problem to a binary class classification problem, using purely supervised machine learning approaches - logistic regression (LR), decision tree (DT), adaboost (AdaB), random forest (RF), and support vector machine (SVM) models. It was concluded that the SVM model performed the best, with an AUC of 0.72, an accuracy of 0.62, and an F1-score of 0.62. In this project, I want to cope with the multi-level sleep quality level prediction problem as a multi-class classification problem, as well as compare the purely supervised SVM model with hybrids of unsupervised clustering approaches and a supervised SVM classifier. In addition, I want to improve the data cleaning process by doing feature scaling and categorical variable encoding if applicable. I will also look into the possibility of overfitting in more detail.\n",
    "\n",
    "Here are the models I will build in this project:\n",
    "1. the SVM model: a purely supervised model\n",
    "2. the KMeans_SVM model: a hybrid model of an unsupervised k-means clustering and a supervised SVM classifier, with hyperparameters to be tuned together\n",
    "3. the Agg_SVM model: a hybrid model of an unsupervised agglomerative hierarchical clustering and a supervised SVM classifier, with hyperparameters to be tuned together\n",
    "\n",
    "Note that I will build hybrid models with the unsupervised clustering approaches instead of other common unsupervised methods like PCA or NMF because of the nature of the dataset. Since the dataset (to be described in section 2) is not at all high dimensional, it is unnecessary to perform dimension reduction using PCA or NMF, which would risk overfitting and losing valuable information and interpretability. Since the dataset has very interpretable features that could potentially form clusters, clustering methods suit this project better. K-means clustering is chosen because that it is a simple and common clustering approach. While agglomerative hierarchical clustering has a higher computational complexity, it might capture more complex relations of the features. Thus, it is interesting to compare these two clustering methods. <br>\n",
    "\n",
    "The questions I want to answer through this project are:\n",
    "1. What are the statistical characteristics of the features? How can they be interpreted in context?\n",
    "2. How well does a SVM model predict the subject's sleep quality level (multi-class classification; sleep quality level 0 to 10) compared to predicting the subject's sleep quality (binary class; slept well or not) in the previous project?\n",
    "3. Which model, the purely supervised SVM model or the unsupervised-supervised hybrid Kmeans_SVM or Agg_SVM models, turns out to be the best one for this multi-class classification task? How well does the best-performing model predict the subject's sleep quality level?\n",
    "4. Does any of the models overfit? How can I fix this?"
   ]
  },
  {
   "cell_type": "code",
   "execution_count": 1,
   "metadata": {},
   "outputs": [
    {
     "name": "stdout",
     "output_type": "stream",
     "text": [
      "data size = (46, 14)\n"
     ]
    },
    {
     "data": {
      "text/html": [
       "<div>\n",
       "<style scoped>\n",
       "    .dataframe tbody tr th:only-of-type {\n",
       "        vertical-align: middle;\n",
       "    }\n",
       "\n",
       "    .dataframe tbody tr th {\n",
       "        vertical-align: top;\n",
       "    }\n",
       "\n",
       "    .dataframe thead th {\n",
       "        text-align: right;\n",
       "    }\n",
       "</style>\n",
       "<table border=\"1\" class=\"dataframe\">\n",
       "  <thead>\n",
       "    <tr style=\"text-align: right;\">\n",
       "      <th></th>\n",
       "      <th>Date</th>\n",
       "      <th>Day</th>\n",
       "      <th>Bedtime</th>\n",
       "      <th>Waketime</th>\n",
       "      <th>Sleep Length</th>\n",
       "      <th>Bedtime Temp</th>\n",
       "      <th>Perceived Temp</th>\n",
       "      <th>Dream</th>\n",
       "      <th>Wake Freq</th>\n",
       "      <th>Waked by Wife</th>\n",
       "      <th>Wife Nocturia</th>\n",
       "      <th>Sleep Quality Level</th>\n",
       "      <th>Slept Well</th>\n",
       "      <th>Meta Data</th>\n",
       "    </tr>\n",
       "  </thead>\n",
       "  <tbody>\n",
       "    <tr>\n",
       "      <th>0</th>\n",
       "      <td>5/6/22</td>\n",
       "      <td>Fri</td>\n",
       "      <td>11:00 PM</td>\n",
       "      <td>7:00 AM</td>\n",
       "      <td>8:00</td>\n",
       "      <td>26.3</td>\n",
       "      <td>Fine</td>\n",
       "      <td>Forgot</td>\n",
       "      <td>1.0</td>\n",
       "      <td>Yes</td>\n",
       "      <td>No</td>\n",
       "      <td>5.0</td>\n",
       "      <td>1.0</td>\n",
       "      <td>NaN</td>\n",
       "    </tr>\n",
       "    <tr>\n",
       "      <th>1</th>\n",
       "      <td>5/7/22</td>\n",
       "      <td>Sat</td>\n",
       "      <td>1:00 AM</td>\n",
       "      <td>8:30 AM</td>\n",
       "      <td>7:30</td>\n",
       "      <td>26.3</td>\n",
       "      <td>Fine</td>\n",
       "      <td>Forgot</td>\n",
       "      <td>1.0</td>\n",
       "      <td>Unsure</td>\n",
       "      <td>Yes</td>\n",
       "      <td>7.0</td>\n",
       "      <td>1.0</td>\n",
       "      <td>NaN</td>\n",
       "    </tr>\n",
       "    <tr>\n",
       "      <th>2</th>\n",
       "      <td>5/8/22</td>\n",
       "      <td>Sun</td>\n",
       "      <td>11:20 PM</td>\n",
       "      <td>7:30 AM</td>\n",
       "      <td>8:10</td>\n",
       "      <td>26.5</td>\n",
       "      <td>Hot</td>\n",
       "      <td>Forgot</td>\n",
       "      <td>0.0</td>\n",
       "      <td>No</td>\n",
       "      <td>Yes</td>\n",
       "      <td>4.0</td>\n",
       "      <td>-1.0</td>\n",
       "      <td>Drank too much water at night; Stomach a bit u...</td>\n",
       "    </tr>\n",
       "    <tr>\n",
       "      <th>3</th>\n",
       "      <td>5/9/22</td>\n",
       "      <td>Mon</td>\n",
       "      <td>1:00 AM</td>\n",
       "      <td>7:20 AM</td>\n",
       "      <td>6:20</td>\n",
       "      <td>26.5</td>\n",
       "      <td>Fine</td>\n",
       "      <td>Forgot</td>\n",
       "      <td>0.0</td>\n",
       "      <td>No</td>\n",
       "      <td>Yes</td>\n",
       "      <td>3.0</td>\n",
       "      <td>-1.0</td>\n",
       "      <td>NaN</td>\n",
       "    </tr>\n",
       "    <tr>\n",
       "      <th>4</th>\n",
       "      <td>5/10/22</td>\n",
       "      <td>Tue</td>\n",
       "      <td>11:00 PM</td>\n",
       "      <td>8:20 AM</td>\n",
       "      <td>9:20</td>\n",
       "      <td>26.7</td>\n",
       "      <td>Cold</td>\n",
       "      <td>Forgot</td>\n",
       "      <td>1.0</td>\n",
       "      <td>Unsure</td>\n",
       "      <td>Yes</td>\n",
       "      <td>5.0</td>\n",
       "      <td>1.0</td>\n",
       "      <td>NaN</td>\n",
       "    </tr>\n",
       "  </tbody>\n",
       "</table>\n",
       "</div>"
      ],
      "text/plain": [
       "      Date  Day   Bedtime Waketime Sleep Length  Bedtime Temp Perceived Temp  \\\n",
       "0   5/6/22  Fri  11:00 PM  7:00 AM         8:00          26.3           Fine   \n",
       "1   5/7/22  Sat   1:00 AM  8:30 AM         7:30          26.3           Fine   \n",
       "2   5/8/22  Sun  11:20 PM  7:30 AM         8:10          26.5            Hot   \n",
       "3   5/9/22  Mon   1:00 AM  7:20 AM         6:20          26.5           Fine   \n",
       "4  5/10/22  Tue  11:00 PM  8:20 AM         9:20          26.7           Cold   \n",
       "\n",
       "    Dream  Wake Freq Waked by Wife Wife Nocturia  Sleep Quality Level  \\\n",
       "0  Forgot        1.0           Yes            No                  5.0   \n",
       "1  Forgot        1.0        Unsure           Yes                  7.0   \n",
       "2  Forgot        0.0            No           Yes                  4.0   \n",
       "3  Forgot        0.0            No           Yes                  3.0   \n",
       "4  Forgot        1.0        Unsure           Yes                  5.0   \n",
       "\n",
       "   Slept Well                                          Meta Data  \n",
       "0         1.0                                                NaN  \n",
       "1         1.0                                                NaN  \n",
       "2        -1.0  Drank too much water at night; Stomach a bit u...  \n",
       "3        -1.0                                                NaN  \n",
       "4         1.0                                                NaN  "
      ]
     },
     "execution_count": 1,
     "metadata": {},
     "output_type": "execute_result"
    }
   ],
   "source": [
    "# importing and loading the data\n",
    "import pandas as pd\n",
    "\n",
    "sleepdata  = pd.read_csv('https://raw.githubusercontent.com/TsaiYunLi/ML2_Final_Project/main/JohnsonSleepData_labeled.csv')\n",
    "print('data size =', sleepdata.shape)\n",
    "sleepdata.head()"
   ]
  },
  {
   "cell_type": "markdown",
   "metadata": {},
   "source": [
    "### 2. Data Description and Data Cleaning\n",
    "The sleep quality data is a tabulated dataset manually collected by the subject himself, intended as a reference for his doctor. I have got his full consent of using it in this public project.\n",
    "\n",
    "As shown in the output above, the dataset contains 644 data points, which is made up of 46 rows for each day's sleep record, from 5 May 2022 to 20 June 2022, and 14 columns for 13 features that the subject believes might influence his sleep (not research based but purely out of his own sleep experience) and one added by myself to store the label 'Slept Well' indicating whether or not the subject slept well, i.e. 1 for positive and -1 for negative cases, which is used in the previous project as the target variable. This column will be dropped in this project, and the values in 'Sleep Quality Level' will be the target variable instead.\n",
    "\n",
    "The features in the dataset are:\n",
    "1. Date (m/d/yy): the date when the sleep instance took place; <br>                 \n",
    "2. Day (Mon ~ Sun): the day when the sleep instance took place; <br> \n",
    "3. Bedtime (hh:mm AM/PM): the time when the subject went to bed; <br>  \n",
    "4. Waketime (hh:mm AM/PM): the time when the subject woke up; <br> \n",
    "5. Sleep Length (h:mm): the length of sleep the subject got; <br> \n",
    "6. Bedtime Temp (degree Celsius): the bedroom temperature at Bedtime; <br>\n",
    "Note that the bedroom was always air-conditioned at 26 degree Celsius. 'Bedtime Temp' is the measured before the air-conditioner was turned on. <br> \n",
    "7. Perceived Temp (Fine/Hot/Cold): how the subject physically felt about the bedroom temperature at Bedtime; <br> \n",
    "8. Dream (Forgot/Remeber/Unsure): wheteher or not the subject remember any dream at Waketime; <br>\n",
    "9. Wake Freq (times): number of times the subject woke up during sleep; <br>\n",
    "10. Waked by Wife (Yes/No/Unsure): whether or not the subject was waked by his wife during sleep; <br>\n",
    "11. Wife Nocturia (Yes/No): whether or not the subject's wife experienced nocturia; <br>\n",
    "12. Sleep Quality Level (0~10): the target varibale; how the subject self-evaluated his sleep qualtiy according to how fatigue he felt at Waketime, which is a 0 to 10 scale with 0 as the lowest score and 10 the highest; <br>\n",
    "13. Slept Well (1, -1): the label of each record; <br>\n",
    "For the binary class classification task in the previous project, the records are labeled with sleep quality level 5 to 9 as 1, i.e. positive, and sleep quality level 0 to 4 as -1, i.e. negative. Note that the subject never experienced a sleep quality level of 10. This feature would not be included in this project. <br>\n",
    "14. Meta Data: additional qualitative information about the sleep that the subject thought might had an influence on his sleep experience <br>\n",
    "\n",
    "In the following code sections, I will explore the dataset in detail to check for and handle useless data and missing data (null values). Techniques of feature scaling and categorical variable encoding using One-Hot encoding would be applied."
   ]
  },
  {
   "cell_type": "code",
   "execution_count": 2,
   "metadata": {},
   "outputs": [
    {
     "name": "stdout",
     "output_type": "stream",
     "text": [
      "<class 'pandas.core.frame.DataFrame'>\n",
      "RangeIndex: 46 entries, 0 to 45\n",
      "Data columns (total 14 columns):\n",
      " #   Column               Non-Null Count  Dtype  \n",
      "---  ------               --------------  -----  \n",
      " 0   Date                 46 non-null     object \n",
      " 1   Day                  46 non-null     object \n",
      " 2   Bedtime              41 non-null     object \n",
      " 3   Waketime             41 non-null     object \n",
      " 4   Sleep Length         41 non-null     object \n",
      " 5   Bedtime Temp         41 non-null     float64\n",
      " 6   Perceived Temp       41 non-null     object \n",
      " 7   Dream                41 non-null     object \n",
      " 8   Wake Freq            41 non-null     float64\n",
      " 9   Waked by Wife        41 non-null     object \n",
      " 10  Wife Nocturia        41 non-null     object \n",
      " 11  Sleep Quality Level  41 non-null     float64\n",
      " 12  Slept Well           41 non-null     float64\n",
      " 13  Meta Data            16 non-null     object \n",
      "dtypes: float64(4), object(10)\n",
      "memory usage: 5.2+ KB\n"
     ]
    }
   ],
   "source": [
    "# checking for null values and each feature's data type\n",
    "sleepdata.info()"
   ]
  },
  {
   "cell_type": "code",
   "execution_count": 3,
   "metadata": {},
   "outputs": [
    {
     "name": "stdout",
     "output_type": "stream",
     "text": [
      "column name, number of null values in each column before data cleaning:\n"
     ]
    },
    {
     "data": {
      "text/plain": [
       "Date                    0\n",
       "Day                     0\n",
       "Bedtime                 5\n",
       "Waketime                5\n",
       "Sleep Length            5\n",
       "Bedtime Temp            5\n",
       "Perceived Temp          5\n",
       "Dream                   5\n",
       "Wake Freq               5\n",
       "Waked by Wife           5\n",
       "Wife Nocturia           5\n",
       "Sleep Quality Level     5\n",
       "Slept Well              5\n",
       "Meta Data              30\n",
       "dtype: int64"
      ]
     },
     "execution_count": 3,
     "metadata": {},
     "output_type": "execute_result"
    }
   ],
   "source": [
    "# checking for each column's null values\n",
    "print(\"column name, number of null values in each column before data cleaning:\")\n",
    "sleepdata.isna().sum()"
   ]
  },
  {
   "cell_type": "code",
   "execution_count": 4,
   "metadata": {},
   "outputs": [
    {
     "name": "stdout",
     "output_type": "stream",
     "text": [
      "row index, number of null values in each row before data cleaning:\n"
     ]
    },
    {
     "data": {
      "text/plain": [
       "0      1\n",
       "1      1\n",
       "2      0\n",
       "3      1\n",
       "4      1\n",
       "5      0\n",
       "6     12\n",
       "7     12\n",
       "8     12\n",
       "9      0\n",
       "10     0\n",
       "11     0\n",
       "12     1\n",
       "13     1\n",
       "14     1\n",
       "15     1\n",
       "16     0\n",
       "17     1\n",
       "18     1\n",
       "19     1\n",
       "20     1\n",
       "21    12\n",
       "22     1\n",
       "23     1\n",
       "24     1\n",
       "25     0\n",
       "26     0\n",
       "27     1\n",
       "28     0\n",
       "29     0\n",
       "30     1\n",
       "31     1\n",
       "32     0\n",
       "33    12\n",
       "34     1\n",
       "35     1\n",
       "36     0\n",
       "37     0\n",
       "38     1\n",
       "39     0\n",
       "40     1\n",
       "41     0\n",
       "42     1\n",
       "43     1\n",
       "44     0\n",
       "45     1\n",
       "dtype: int64"
      ]
     },
     "execution_count": 4,
     "metadata": {},
     "output_type": "execute_result"
    }
   ],
   "source": [
    "# checking for each row's null values\n",
    "print(\"row index, number of null values in each row before data cleaning:\")\n",
    "sleepdata.isna().sum(axis=1)"
   ]
  },
  {
   "cell_type": "markdown",
   "metadata": {},
   "source": [
    "From the output above, we can tell that except the first two columns, there are null values in the rest of the columns. Most features are objects, except for 'Bedtime Temp', 'Wake Freq', 'Sleep Quality Level', and 'Slept Well'.\n",
    "\n",
    "Firstly, I decide to drop the column for 'Meta Data,' not only because it contains many null values but also for the fact that I am not going refer to it in my analysis. Secondly, I will drop the column 'Slept Well,' which stores the binary labels used in the previous project that is of no use here. Then, since all the null values are in the same 5 rows, which takes up only 11% of the data, I will drop these rows. Afterwards, I will perform some feature scaling and categorical feature encoding, including applying One-Hot Encoding on specific categorical features, as an improvement of the data cleaning process done in the previous project."
   ]
  },
  {
   "cell_type": "code",
   "execution_count": 5,
   "metadata": {},
   "outputs": [
    {
     "name": "stdout",
     "output_type": "stream",
     "text": [
      "dataset shape before data cleaning: (46, 14)\n"
     ]
    }
   ],
   "source": [
    "print(\"dataset shape before data cleaning:\", sleepdata.shape)"
   ]
  },
  {
   "cell_type": "code",
   "execution_count": 6,
   "metadata": {},
   "outputs": [
    {
     "name": "stdout",
     "output_type": "stream",
     "text": [
      "(41, 12)\n"
     ]
    }
   ],
   "source": [
    "## removing specific data\n",
    "# dropping 'Meta Data'\n",
    "sleepdata = sleepdata.drop('Meta Data', axis=1)\n",
    "\n",
    "# dropping 'Slept Well'\n",
    "sleepdata = sleepdata.drop('Slept Well', axis=1)\n",
    "\n",
    "# dropping the 5 rows with null values\n",
    "sleepdata = sleepdata.dropna()\n",
    "\n",
    "print(sleepdata.shape)"
   ]
  },
  {
   "cell_type": "code",
   "execution_count": 7,
   "metadata": {},
   "outputs": [],
   "source": [
    "## encoding categorical features, part 1\n",
    "# substituting 'Day' values (Mon, Tues, Wed, Thurs, Fri, Sat, Sun) with number (1, 2, 3, 4, 5, 6, 7)\n",
    "weekday_mapping = {'Mon': 1, 'Tue': 2, 'Wed': 3, 'Thurs': 4, 'Fri': 5, 'Sat': 6, 'Sun': 7}\n",
    "sleepdata['Day'] = sleepdata['Day'].map(weekday_mapping).astype(float)\n",
    "\n",
    "# transforming the 'Bedtime' values from temporal format into numbers\n",
    "# e.g. from 10:30 PM to 20.5; from 11:00 PM to 23.0; from 12:00 AM to 24.0; from 1:00 AM to 25.0\n",
    "bedtime_numbers = []\n",
    "nonNA_Bedtime = sleepdata['Bedtime'].notna()\n",
    "for t in sleepdata['Bedtime'][nonNA_Bedtime]:\n",
    "    time_parts = t.split(' ')\n",
    "    hour, minute = map(int, time_parts[0].split(':'))\n",
    "    if time_parts[1] == 'PM' and hour <= 11:\n",
    "        hour += 12\n",
    "    if time_parts[1] == 'AM' and hour == 12:\n",
    "        hour += 12\n",
    "    if time_parts[1] == 'AM' and 1 <= hour < 12:\n",
    "        hour += 24\n",
    "    fractional_hour = hour + minute / 60.0\n",
    "    bedtime_numbers.append(fractional_hour)\n",
    "sleepdata.loc[nonNA_Bedtime, 'Bedtime'] = bedtime_numbers\n",
    "\n",
    "# transforming the 'Waketime' values from temporal format into numbers\n",
    "# e.g. from 9:00 AM to 9.0, from 9:30 AM to 9.5\n",
    "waketime_numbers = []\n",
    "nonNA_Waketime = sleepdata['Waketime'].notna()\n",
    "for t in sleepdata['Waketime'][nonNA_Waketime]:\n",
    "    time_parts = t.split(' ')\n",
    "    hour, minute = map(int, time_parts[0].split(':'))\n",
    "    fractional_hour = hour + minute / 60.0\n",
    "    waketime_numbers.append(fractional_hour)\n",
    "sleepdata.loc[nonNA_Waketime, 'Waketime'] = waketime_numbers\n",
    "\n",
    "# transforming the 'Sleep Length' values from temporal format into numbers\n",
    "# e.g. from 8:00 to 8, from 7:30 to 7.5\n",
    "sleeplength_numbers = []\n",
    "nonNA_SleepLength = sleepdata['Sleep Length'].notna()\n",
    "for t in sleepdata['Sleep Length'][nonNA_SleepLength]:\n",
    "    time_parts = t.split(' ')\n",
    "    hour, minute = map(int, time_parts[0].split(':'))\n",
    "    fractional_hour = hour + minute / 60.0\n",
    "    sleeplength_numbers.append(fractional_hour)\n",
    "sleepdata.loc[nonNA_SleepLength, 'Sleep Length'] = sleeplength_numbers"
   ]
  },
  {
   "cell_type": "code",
   "execution_count": 8,
   "metadata": {},
   "outputs": [],
   "source": [
    "## encoding categorical features, part 2\n",
    "# converting the categorical 'Perceived Temp' from categorical to numerical data 0 or 1\n",
    "# by applying the One-Hot encoding technique\n",
    "# instead of substituting (Cold, Hot, Fine) with (1, 2, 3) as in the previous project\n",
    "perctemp_encode = pd.DataFrame({'Perceived Temp': ['Cold', 'Hot', 'Fine']})\n",
    "sleepdata = pd.concat([sleepdata, pd.get_dummies(sleepdata['Perceived Temp'], prefix='Perceived Temp')], axis=1)\n",
    "sleepdata.drop('Perceived Temp', axis=1, inplace=True)\n",
    "\n",
    "# converting the categorical 'Dream' from categorical to numerical data 0 or 1\n",
    "# by applying the One-Hot encoding technique\n",
    "# instead of substituting (Remember, Forgot) with (1, 2) as in the previous project\n",
    "dream_encode = pd.DataFrame({'Dream': ['Remember', 'Forgot']})\n",
    "sleepdata = pd.concat([sleepdata, pd.get_dummies(sleepdata['Dream'], prefix='Dream')], axis=1)\n",
    "sleepdata.drop('Dream', axis=1, inplace=True)\n",
    "\n",
    "# converting the categorical 'Waked by Wife' from categorical to numerical data 0 or 1\n",
    "# by applying the One-Hot encoding technique\n",
    "# instead of substituting (Unsure, Yes, No) with (1, 2, 3) as in the previous project\n",
    "wbf_encode = pd.DataFrame({'Waked by Wife': ['Unsure', 'Yes', 'No']})\n",
    "sleepdata = pd.concat([sleepdata, pd.get_dummies(sleepdata['Waked by Wife'], prefix='Waked by Wife')], axis=1)\n",
    "sleepdata.drop('Waked by Wife', axis=1, inplace=True)\n",
    "\n",
    "# converting the categorical 'Wife Nocturia' from categorical to numerical data 0 or 1\n",
    "# by applying the One-Hot encoding technique\n",
    "# instead of substituting (Yes, No) with (1, 2) as in the previous project\n",
    "wn_encode = pd.DataFrame({'Wife Nocturia': ['Yes', 'No']})\n",
    "sleepdata = pd.concat([sleepdata, pd.get_dummies(sleepdata['Wife Nocturia'], prefix='Wife Nocturia')], axis=1)\n",
    "sleepdata.drop('Wife Nocturia', axis=1, inplace=True)"
   ]
  },
  {
   "cell_type": "markdown",
   "metadata": {},
   "source": [
    "Even though applying One-Hot encoding on the features above added 10 binary columns filled with quite some zeros and increases the sparsity of the dataset, since the dataset with its null values removed is small and very dense, this would not be too much of a problem. Besides, compared to the randomly assignmed numbers to these categorical features in the previous project which could be misleadingly interpreted as their weights, the benefit of One-Hot encoding's logical labeling (0 or 1) overweights the sparsity issue. "
   ]
  },
  {
   "cell_type": "code",
   "execution_count": 9,
   "metadata": {},
   "outputs": [
    {
     "name": "stdout",
     "output_type": "stream",
     "text": [
      "column name, number of null values in each column after data cleaning: Date                    0\n",
      "Day                     0\n",
      "Bedtime                 0\n",
      "Waketime                0\n",
      "Sleep Length            0\n",
      "Bedtime Temp            0\n",
      "Wake Freq               0\n",
      "Sleep Quality Level     0\n",
      "Perceived Temp_Cold     0\n",
      "Perceived Temp_Fine     0\n",
      "Perceived Temp_Hot      0\n",
      "Dream_Forgot            0\n",
      "Dream_Remember          0\n",
      "Waked by Wife_No        0\n",
      "Waked by Wife_Unsure    0\n",
      "Waked by Wife_Yes       0\n",
      "Wife Nocturia_No        0\n",
      "Wife Nocturia_Yes       0\n",
      "dtype: int64 \n",
      "\n",
      "row index, number of null values in each row after data cleaning: 0     0\n",
      "1     0\n",
      "2     0\n",
      "3     0\n",
      "4     0\n",
      "5     0\n",
      "9     0\n",
      "10    0\n",
      "11    0\n",
      "12    0\n",
      "13    0\n",
      "14    0\n",
      "15    0\n",
      "16    0\n",
      "17    0\n",
      "18    0\n",
      "19    0\n",
      "20    0\n",
      "22    0\n",
      "23    0\n",
      "24    0\n",
      "25    0\n",
      "26    0\n",
      "27    0\n",
      "28    0\n",
      "29    0\n",
      "30    0\n",
      "31    0\n",
      "32    0\n",
      "34    0\n",
      "35    0\n",
      "36    0\n",
      "37    0\n",
      "38    0\n",
      "39    0\n",
      "40    0\n",
      "41    0\n",
      "42    0\n",
      "43    0\n",
      "44    0\n",
      "45    0\n",
      "dtype: int64\n"
     ]
    }
   ],
   "source": [
    "## double checking if all the null values are eliminated\n",
    "# checking for each column's null values\n",
    "print(\"column name, number of null values in each column after data cleaning:\", sleepdata.isna().sum(), \"\\n\")\n",
    "\n",
    "# checking for each row's null values\n",
    "print(\"row index, number of null values in each row after data cleaning:\", sleepdata.isna().sum(axis=1))"
   ]
  },
  {
   "cell_type": "code",
   "execution_count": 10,
   "metadata": {},
   "outputs": [
    {
     "name": "stdout",
     "output_type": "stream",
     "text": [
      "data shape after data cleaning:\n"
     ]
    },
    {
     "data": {
      "text/plain": [
       "(41, 18)"
      ]
     },
     "execution_count": 10,
     "metadata": {},
     "output_type": "execute_result"
    }
   ],
   "source": [
    "print(\"data shape after data cleaning:\")\n",
    "sleepdata.shape"
   ]
  },
  {
   "cell_type": "code",
   "execution_count": 11,
   "metadata": {},
   "outputs": [
    {
     "name": "stdout",
     "output_type": "stream",
     "text": [
      "data info after data cleaning:\n",
      "<class 'pandas.core.frame.DataFrame'>\n",
      "Int64Index: 41 entries, 0 to 45\n",
      "Data columns (total 18 columns):\n",
      " #   Column                Non-Null Count  Dtype  \n",
      "---  ------                --------------  -----  \n",
      " 0   Date                  41 non-null     object \n",
      " 1   Day                   41 non-null     float64\n",
      " 2   Bedtime               41 non-null     float64\n",
      " 3   Waketime              41 non-null     float64\n",
      " 4   Sleep Length          41 non-null     float64\n",
      " 5   Bedtime Temp          41 non-null     float64\n",
      " 6   Wake Freq             41 non-null     float64\n",
      " 7   Sleep Quality Level   41 non-null     float64\n",
      " 8   Perceived Temp_Cold   41 non-null     uint8  \n",
      " 9   Perceived Temp_Fine   41 non-null     uint8  \n",
      " 10  Perceived Temp_Hot    41 non-null     uint8  \n",
      " 11  Dream_Forgot          41 non-null     uint8  \n",
      " 12  Dream_Remember        41 non-null     uint8  \n",
      " 13  Waked by Wife_No      41 non-null     uint8  \n",
      " 14  Waked by Wife_Unsure  41 non-null     uint8  \n",
      " 15  Waked by Wife_Yes     41 non-null     uint8  \n",
      " 16  Wife Nocturia_No      41 non-null     uint8  \n",
      " 17  Wife Nocturia_Yes     41 non-null     uint8  \n",
      "dtypes: float64(7), object(1), uint8(10)\n",
      "memory usage: 3.3+ KB\n"
     ]
    }
   ],
   "source": [
    "print(\"data info after data cleaning:\")\n",
    "sleepdata.info()"
   ]
  },
  {
   "cell_type": "code",
   "execution_count": 12,
   "metadata": {},
   "outputs": [
    {
     "name": "stdout",
     "output_type": "stream",
     "text": [
      "data head after data cleaning:\n"
     ]
    },
    {
     "data": {
      "text/html": [
       "<div>\n",
       "<style scoped>\n",
       "    .dataframe tbody tr th:only-of-type {\n",
       "        vertical-align: middle;\n",
       "    }\n",
       "\n",
       "    .dataframe tbody tr th {\n",
       "        vertical-align: top;\n",
       "    }\n",
       "\n",
       "    .dataframe thead th {\n",
       "        text-align: right;\n",
       "    }\n",
       "</style>\n",
       "<table border=\"1\" class=\"dataframe\">\n",
       "  <thead>\n",
       "    <tr style=\"text-align: right;\">\n",
       "      <th></th>\n",
       "      <th>Date</th>\n",
       "      <th>Day</th>\n",
       "      <th>Bedtime</th>\n",
       "      <th>Waketime</th>\n",
       "      <th>Sleep Length</th>\n",
       "      <th>Bedtime Temp</th>\n",
       "      <th>Wake Freq</th>\n",
       "      <th>Sleep Quality Level</th>\n",
       "      <th>Perceived Temp_Cold</th>\n",
       "      <th>Perceived Temp_Fine</th>\n",
       "      <th>Perceived Temp_Hot</th>\n",
       "      <th>Dream_Forgot</th>\n",
       "      <th>Dream_Remember</th>\n",
       "      <th>Waked by Wife_No</th>\n",
       "      <th>Waked by Wife_Unsure</th>\n",
       "      <th>Waked by Wife_Yes</th>\n",
       "      <th>Wife Nocturia_No</th>\n",
       "      <th>Wife Nocturia_Yes</th>\n",
       "    </tr>\n",
       "  </thead>\n",
       "  <tbody>\n",
       "    <tr>\n",
       "      <th>0</th>\n",
       "      <td>5/6/22</td>\n",
       "      <td>5.0</td>\n",
       "      <td>23.000000</td>\n",
       "      <td>7.000000</td>\n",
       "      <td>8.000000</td>\n",
       "      <td>26.3</td>\n",
       "      <td>1.0</td>\n",
       "      <td>5.0</td>\n",
       "      <td>0</td>\n",
       "      <td>1</td>\n",
       "      <td>0</td>\n",
       "      <td>1</td>\n",
       "      <td>0</td>\n",
       "      <td>0</td>\n",
       "      <td>0</td>\n",
       "      <td>1</td>\n",
       "      <td>1</td>\n",
       "      <td>0</td>\n",
       "    </tr>\n",
       "    <tr>\n",
       "      <th>1</th>\n",
       "      <td>5/7/22</td>\n",
       "      <td>6.0</td>\n",
       "      <td>25.000000</td>\n",
       "      <td>8.500000</td>\n",
       "      <td>7.500000</td>\n",
       "      <td>26.3</td>\n",
       "      <td>1.0</td>\n",
       "      <td>7.0</td>\n",
       "      <td>0</td>\n",
       "      <td>1</td>\n",
       "      <td>0</td>\n",
       "      <td>1</td>\n",
       "      <td>0</td>\n",
       "      <td>0</td>\n",
       "      <td>1</td>\n",
       "      <td>0</td>\n",
       "      <td>0</td>\n",
       "      <td>1</td>\n",
       "    </tr>\n",
       "    <tr>\n",
       "      <th>2</th>\n",
       "      <td>5/8/22</td>\n",
       "      <td>7.0</td>\n",
       "      <td>23.333333</td>\n",
       "      <td>7.500000</td>\n",
       "      <td>8.166667</td>\n",
       "      <td>26.5</td>\n",
       "      <td>0.0</td>\n",
       "      <td>4.0</td>\n",
       "      <td>0</td>\n",
       "      <td>0</td>\n",
       "      <td>1</td>\n",
       "      <td>1</td>\n",
       "      <td>0</td>\n",
       "      <td>1</td>\n",
       "      <td>0</td>\n",
       "      <td>0</td>\n",
       "      <td>0</td>\n",
       "      <td>1</td>\n",
       "    </tr>\n",
       "    <tr>\n",
       "      <th>3</th>\n",
       "      <td>5/9/22</td>\n",
       "      <td>1.0</td>\n",
       "      <td>25.000000</td>\n",
       "      <td>7.333333</td>\n",
       "      <td>6.333333</td>\n",
       "      <td>26.5</td>\n",
       "      <td>0.0</td>\n",
       "      <td>3.0</td>\n",
       "      <td>0</td>\n",
       "      <td>1</td>\n",
       "      <td>0</td>\n",
       "      <td>1</td>\n",
       "      <td>0</td>\n",
       "      <td>1</td>\n",
       "      <td>0</td>\n",
       "      <td>0</td>\n",
       "      <td>0</td>\n",
       "      <td>1</td>\n",
       "    </tr>\n",
       "    <tr>\n",
       "      <th>4</th>\n",
       "      <td>5/10/22</td>\n",
       "      <td>2.0</td>\n",
       "      <td>23.000000</td>\n",
       "      <td>8.333333</td>\n",
       "      <td>9.333333</td>\n",
       "      <td>26.7</td>\n",
       "      <td>1.0</td>\n",
       "      <td>5.0</td>\n",
       "      <td>1</td>\n",
       "      <td>0</td>\n",
       "      <td>0</td>\n",
       "      <td>1</td>\n",
       "      <td>0</td>\n",
       "      <td>0</td>\n",
       "      <td>1</td>\n",
       "      <td>0</td>\n",
       "      <td>0</td>\n",
       "      <td>1</td>\n",
       "    </tr>\n",
       "  </tbody>\n",
       "</table>\n",
       "</div>"
      ],
      "text/plain": [
       "      Date  Day    Bedtime  Waketime  Sleep Length  Bedtime Temp  Wake Freq  \\\n",
       "0   5/6/22  5.0  23.000000  7.000000      8.000000          26.3        1.0   \n",
       "1   5/7/22  6.0  25.000000  8.500000      7.500000          26.3        1.0   \n",
       "2   5/8/22  7.0  23.333333  7.500000      8.166667          26.5        0.0   \n",
       "3   5/9/22  1.0  25.000000  7.333333      6.333333          26.5        0.0   \n",
       "4  5/10/22  2.0  23.000000  8.333333      9.333333          26.7        1.0   \n",
       "\n",
       "   Sleep Quality Level  Perceived Temp_Cold  Perceived Temp_Fine  \\\n",
       "0                  5.0                    0                    1   \n",
       "1                  7.0                    0                    1   \n",
       "2                  4.0                    0                    0   \n",
       "3                  3.0                    0                    1   \n",
       "4                  5.0                    1                    0   \n",
       "\n",
       "   Perceived Temp_Hot  Dream_Forgot  Dream_Remember  Waked by Wife_No  \\\n",
       "0                   0             1               0                 0   \n",
       "1                   0             1               0                 0   \n",
       "2                   1             1               0                 1   \n",
       "3                   0             1               0                 1   \n",
       "4                   0             1               0                 0   \n",
       "\n",
       "   Waked by Wife_Unsure  Waked by Wife_Yes  Wife Nocturia_No  \\\n",
       "0                     0                  1                 1   \n",
       "1                     1                  0                 0   \n",
       "2                     0                  0                 0   \n",
       "3                     0                  0                 0   \n",
       "4                     1                  0                 0   \n",
       "\n",
       "   Wife Nocturia_Yes  \n",
       "0                  0  \n",
       "1                  1  \n",
       "2                  1  \n",
       "3                  1  \n",
       "4                  1  "
      ]
     },
     "execution_count": 12,
     "metadata": {},
     "output_type": "execute_result"
    }
   ],
   "source": [
    "print(\"data head after data cleaning:\")\n",
    "sleepdata.head()"
   ]
  },
  {
   "cell_type": "markdown",
   "metadata": {},
   "source": [
    "##### Data Cleaning Summary:\n",
    "1. useless columns 'Meta Data'and 'Slept Well' are removed\n",
    "2. 5 rows of of data full of null values are removed\n",
    "3. no useless or missing data left\n",
    "4. columns 'Perceived Temp,' 'Dream,' 'Waked by Wife,' and 'Wife Nocturia' are dropped and replaced by the 10 binary columns generated by One-Hot encoding, namely 'Perceived Temp_Cold,' 'Perceived Temp_Fine,' 'Perceived Temp_Hot,' 'Dream_Forgot,' 'Dream_Remember,' 'Waked by Wife_No,' 'Waked by Wife_Unsure,' 'Waked by Wife_Yes,' 'Wife Nocturia_No,' and 'Wife Nocturia_Yes.'\n",
    "\n",
    "Note that I decided to not to scale the features now because I want to retain these features' contextual meaning which should provide more insight for analysis. For example, 'Day' has a range of 1 to 7, representing the seven days in a week like '1' representing 'Monday.' The numerical values for 'Bedtime' and 'Waketime' both represents the actual time the subject went to bed and woke up. Similarly, 'Waketime,' 'Sleep Length', 'Bedtime Temp,' and 'Wake Freq' all have interpretable units. It would be too much of an information loss if they are removed. I will scale the features after data splitting, which is after EDA and before modeling, to improve model performance. <br>\n",
    "\n",
    "5. contains 18 features: only 'Date' remains as a string object, others are all converted into float64 or uint8 numerical items for the convenience of further statistical/graphical analysis and modelling\n",
    "6. contains 41 rows and 18 columns"
   ]
  },
  {
   "cell_type": "markdown",
   "metadata": {},
   "source": [
    "### 3. Exploratory Data Analysis (EDA)\n",
    "In this section, I will explore the dataset further and prepare it ready for modelling. First, I will compute simple summary statistics and graph the distribution of the features to get an impression of the main characteristics and patterns of the data. Then check for and handle outliers and correlated features to reduce overfitting. Finally, I will find out if the dataset is balanced or not, which would influence my choice of model evaltion metrics later."
   ]
  },
  {
   "cell_type": "code",
   "execution_count": 13,
   "metadata": {},
   "outputs": [
    {
     "data": {
      "text/html": [
       "<div>\n",
       "<style scoped>\n",
       "    .dataframe tbody tr th:only-of-type {\n",
       "        vertical-align: middle;\n",
       "    }\n",
       "\n",
       "    .dataframe tbody tr th {\n",
       "        vertical-align: top;\n",
       "    }\n",
       "\n",
       "    .dataframe thead th {\n",
       "        text-align: right;\n",
       "    }\n",
       "</style>\n",
       "<table border=\"1\" class=\"dataframe\">\n",
       "  <thead>\n",
       "    <tr style=\"text-align: right;\">\n",
       "      <th></th>\n",
       "      <th>Day</th>\n",
       "      <th>Bedtime</th>\n",
       "      <th>Waketime</th>\n",
       "      <th>Sleep Length</th>\n",
       "      <th>Bedtime Temp</th>\n",
       "      <th>Wake Freq</th>\n",
       "      <th>Sleep Quality Level</th>\n",
       "      <th>Perceived Temp_Cold</th>\n",
       "      <th>Perceived Temp_Fine</th>\n",
       "      <th>Perceived Temp_Hot</th>\n",
       "      <th>Dream_Forgot</th>\n",
       "      <th>Dream_Remember</th>\n",
       "      <th>Waked by Wife_No</th>\n",
       "      <th>Waked by Wife_Unsure</th>\n",
       "      <th>Waked by Wife_Yes</th>\n",
       "      <th>Wife Nocturia_No</th>\n",
       "      <th>Wife Nocturia_Yes</th>\n",
       "    </tr>\n",
       "  </thead>\n",
       "  <tbody>\n",
       "    <tr>\n",
       "      <th>count</th>\n",
       "      <td>41.000000</td>\n",
       "      <td>41.000000</td>\n",
       "      <td>41.000000</td>\n",
       "      <td>41.000000</td>\n",
       "      <td>41.00000</td>\n",
       "      <td>41.000000</td>\n",
       "      <td>41.000000</td>\n",
       "      <td>41.000000</td>\n",
       "      <td>41.000000</td>\n",
       "      <td>41.000000</td>\n",
       "      <td>41.000000</td>\n",
       "      <td>41.000000</td>\n",
       "      <td>41.000000</td>\n",
       "      <td>41.000000</td>\n",
       "      <td>41.000000</td>\n",
       "      <td>41.000000</td>\n",
       "      <td>41.000000</td>\n",
       "    </tr>\n",
       "    <tr>\n",
       "      <th>mean</th>\n",
       "      <td>4.000000</td>\n",
       "      <td>23.654472</td>\n",
       "      <td>7.928862</td>\n",
       "      <td>8.274390</td>\n",
       "      <td>27.60000</td>\n",
       "      <td>0.439024</td>\n",
       "      <td>4.170732</td>\n",
       "      <td>0.219512</td>\n",
       "      <td>0.731707</td>\n",
       "      <td>0.048780</td>\n",
       "      <td>0.926829</td>\n",
       "      <td>0.073171</td>\n",
       "      <td>0.756098</td>\n",
       "      <td>0.073171</td>\n",
       "      <td>0.170732</td>\n",
       "      <td>0.097561</td>\n",
       "      <td>0.902439</td>\n",
       "    </tr>\n",
       "    <tr>\n",
       "      <th>std</th>\n",
       "      <td>2.144761</td>\n",
       "      <td>0.886935</td>\n",
       "      <td>0.688083</td>\n",
       "      <td>1.035187</td>\n",
       "      <td>1.44931</td>\n",
       "      <td>1.073517</td>\n",
       "      <td>2.143624</td>\n",
       "      <td>0.419058</td>\n",
       "      <td>0.448575</td>\n",
       "      <td>0.218085</td>\n",
       "      <td>0.263652</td>\n",
       "      <td>0.263652</td>\n",
       "      <td>0.434769</td>\n",
       "      <td>0.263652</td>\n",
       "      <td>0.380949</td>\n",
       "      <td>0.300406</td>\n",
       "      <td>0.300406</td>\n",
       "    </tr>\n",
       "    <tr>\n",
       "      <th>min</th>\n",
       "      <td>1.000000</td>\n",
       "      <td>22.000000</td>\n",
       "      <td>6.000000</td>\n",
       "      <td>5.166667</td>\n",
       "      <td>25.00000</td>\n",
       "      <td>0.000000</td>\n",
       "      <td>0.000000</td>\n",
       "      <td>0.000000</td>\n",
       "      <td>0.000000</td>\n",
       "      <td>0.000000</td>\n",
       "      <td>0.000000</td>\n",
       "      <td>0.000000</td>\n",
       "      <td>0.000000</td>\n",
       "      <td>0.000000</td>\n",
       "      <td>0.000000</td>\n",
       "      <td>0.000000</td>\n",
       "      <td>0.000000</td>\n",
       "    </tr>\n",
       "    <tr>\n",
       "      <th>25%</th>\n",
       "      <td>2.000000</td>\n",
       "      <td>23.000000</td>\n",
       "      <td>7.500000</td>\n",
       "      <td>7.833333</td>\n",
       "      <td>26.30000</td>\n",
       "      <td>0.000000</td>\n",
       "      <td>3.000000</td>\n",
       "      <td>0.000000</td>\n",
       "      <td>0.000000</td>\n",
       "      <td>0.000000</td>\n",
       "      <td>1.000000</td>\n",
       "      <td>0.000000</td>\n",
       "      <td>1.000000</td>\n",
       "      <td>0.000000</td>\n",
       "      <td>0.000000</td>\n",
       "      <td>0.000000</td>\n",
       "      <td>1.000000</td>\n",
       "    </tr>\n",
       "    <tr>\n",
       "      <th>50%</th>\n",
       "      <td>4.000000</td>\n",
       "      <td>23.500000</td>\n",
       "      <td>8.000000</td>\n",
       "      <td>8.500000</td>\n",
       "      <td>27.30000</td>\n",
       "      <td>0.000000</td>\n",
       "      <td>5.000000</td>\n",
       "      <td>0.000000</td>\n",
       "      <td>1.000000</td>\n",
       "      <td>0.000000</td>\n",
       "      <td>1.000000</td>\n",
       "      <td>0.000000</td>\n",
       "      <td>1.000000</td>\n",
       "      <td>0.000000</td>\n",
       "      <td>0.000000</td>\n",
       "      <td>0.000000</td>\n",
       "      <td>1.000000</td>\n",
       "    </tr>\n",
       "    <tr>\n",
       "      <th>75%</th>\n",
       "      <td>6.000000</td>\n",
       "      <td>24.166667</td>\n",
       "      <td>8.500000</td>\n",
       "      <td>9.000000</td>\n",
       "      <td>29.00000</td>\n",
       "      <td>1.000000</td>\n",
       "      <td>5.000000</td>\n",
       "      <td>0.000000</td>\n",
       "      <td>1.000000</td>\n",
       "      <td>0.000000</td>\n",
       "      <td>1.000000</td>\n",
       "      <td>0.000000</td>\n",
       "      <td>1.000000</td>\n",
       "      <td>0.000000</td>\n",
       "      <td>0.000000</td>\n",
       "      <td>0.000000</td>\n",
       "      <td>1.000000</td>\n",
       "    </tr>\n",
       "    <tr>\n",
       "      <th>max</th>\n",
       "      <td>7.000000</td>\n",
       "      <td>26.333333</td>\n",
       "      <td>9.166667</td>\n",
       "      <td>9.916667</td>\n",
       "      <td>30.10000</td>\n",
       "      <td>6.000000</td>\n",
       "      <td>9.000000</td>\n",
       "      <td>1.000000</td>\n",
       "      <td>1.000000</td>\n",
       "      <td>1.000000</td>\n",
       "      <td>1.000000</td>\n",
       "      <td>1.000000</td>\n",
       "      <td>1.000000</td>\n",
       "      <td>1.000000</td>\n",
       "      <td>1.000000</td>\n",
       "      <td>1.000000</td>\n",
       "      <td>1.000000</td>\n",
       "    </tr>\n",
       "  </tbody>\n",
       "</table>\n",
       "</div>"
      ],
      "text/plain": [
       "             Day    Bedtime   Waketime  Sleep Length  Bedtime Temp  Wake Freq  \\\n",
       "count  41.000000  41.000000  41.000000     41.000000      41.00000  41.000000   \n",
       "mean    4.000000  23.654472   7.928862      8.274390      27.60000   0.439024   \n",
       "std     2.144761   0.886935   0.688083      1.035187       1.44931   1.073517   \n",
       "min     1.000000  22.000000   6.000000      5.166667      25.00000   0.000000   \n",
       "25%     2.000000  23.000000   7.500000      7.833333      26.30000   0.000000   \n",
       "50%     4.000000  23.500000   8.000000      8.500000      27.30000   0.000000   \n",
       "75%     6.000000  24.166667   8.500000      9.000000      29.00000   1.000000   \n",
       "max     7.000000  26.333333   9.166667      9.916667      30.10000   6.000000   \n",
       "\n",
       "       Sleep Quality Level  Perceived Temp_Cold  Perceived Temp_Fine  \\\n",
       "count            41.000000            41.000000            41.000000   \n",
       "mean              4.170732             0.219512             0.731707   \n",
       "std               2.143624             0.419058             0.448575   \n",
       "min               0.000000             0.000000             0.000000   \n",
       "25%               3.000000             0.000000             0.000000   \n",
       "50%               5.000000             0.000000             1.000000   \n",
       "75%               5.000000             0.000000             1.000000   \n",
       "max               9.000000             1.000000             1.000000   \n",
       "\n",
       "       Perceived Temp_Hot  Dream_Forgot  Dream_Remember  Waked by Wife_No  \\\n",
       "count           41.000000     41.000000       41.000000         41.000000   \n",
       "mean             0.048780      0.926829        0.073171          0.756098   \n",
       "std              0.218085      0.263652        0.263652          0.434769   \n",
       "min              0.000000      0.000000        0.000000          0.000000   \n",
       "25%              0.000000      1.000000        0.000000          1.000000   \n",
       "50%              0.000000      1.000000        0.000000          1.000000   \n",
       "75%              0.000000      1.000000        0.000000          1.000000   \n",
       "max              1.000000      1.000000        1.000000          1.000000   \n",
       "\n",
       "       Waked by Wife_Unsure  Waked by Wife_Yes  Wife Nocturia_No  \\\n",
       "count             41.000000          41.000000         41.000000   \n",
       "mean               0.073171           0.170732          0.097561   \n",
       "std                0.263652           0.380949          0.300406   \n",
       "min                0.000000           0.000000          0.000000   \n",
       "25%                0.000000           0.000000          0.000000   \n",
       "50%                0.000000           0.000000          0.000000   \n",
       "75%                0.000000           0.000000          0.000000   \n",
       "max                1.000000           1.000000          1.000000   \n",
       "\n",
       "       Wife Nocturia_Yes  \n",
       "count          41.000000  \n",
       "mean            0.902439  \n",
       "std             0.300406  \n",
       "min             0.000000  \n",
       "25%             1.000000  \n",
       "50%             1.000000  \n",
       "75%             1.000000  \n",
       "max             1.000000  "
      ]
     },
     "execution_count": 13,
     "metadata": {},
     "output_type": "execute_result"
    }
   ],
   "source": [
    "## getting a rough statistic idea of the features\n",
    "# simple statistics of each feature\n",
    "sleepdata.describe()"
   ]
  },
  {
   "cell_type": "markdown",
   "metadata": {},
   "source": [
    "##### The mean of each numerical feature and their contextual interpretation:\n",
    "1. Day (4.00): Thursday, not meaningful for analysis; \n",
    "2. Bedtime (23.65): the subject went to bed at 11:39 PM in average; \n",
    "3. Waketime (7.93): the subject woke up at 7:56 AM in average;\n",
    "4. Sleep Length (8.27): the subject slept for 8 hours 16 minutes per night in average; \n",
    "5. Bedtime Temp (27.60): the room temperature was 27.6 degree Celsius per night in average; \n",
    "6. Wake Freq (0.44): the subject woke up once per night in average; \n",
    "7. Sleep Quality Level (4.17): the subject experienced a sleep quality of level 4 in average"
   ]
  },
  {
   "cell_type": "code",
   "execution_count": 14,
   "metadata": {},
   "outputs": [
    {
     "name": "stdout",
     "output_type": "stream",
     "text": [
      "Frequency count for Perceived Temp_Cold: 9\n",
      "Frequency count for Perceived Temp_Fine: 30\n",
      "Frequency count for Perceived Temp_Hot: 2\n",
      "Frequency count for Dream_Forgot: 38\n",
      "Frequency count for Dream_Remember: 3\n",
      "Frequency count for Waked by Wife_No: 31\n",
      "Frequency count for Waked by Wife_Unsure: 3\n",
      "Frequency count for Waked by Wife_Yes: 7\n",
      "Frequency count for Wife Nocturia_No: 4\n",
      "Frequency count for Wife Nocturia_Yes: 37\n"
     ]
    }
   ],
   "source": [
    "one_hot_encoded_columns = sleepdata.columns[-10:].tolist()\n",
    "for col in one_hot_encoded_columns:\n",
    "    print(f\"Frequency count for {col}: {sleepdata[col].sum()}\")"
   ]
  },
  {
   "cell_type": "code",
   "execution_count": 15,
   "metadata": {},
   "outputs": [
    {
     "name": "stdout",
     "output_type": "stream",
     "text": [
      "Perceived Temp_Fine takes up 73.17073170731707 percent of all Perceived Temp\n",
      "Perceived Dream_Forgot takes up 92.6829268292683 percent of all Dream\n",
      "Perceived Waked by Wife_No takes up 75.60975609756098 percent of all Waked by Wife\n",
      "Perceived Waked by Wife Nocturia_Yes takes up 90.2439024390244 percent of all Wife Nocturia\n"
     ]
    }
   ],
   "source": [
    "print(\"Perceived Temp_Fine takes up\", 30/41*100, \"percent of all Perceived Temp\")\n",
    "print(\"Perceived Dream_Forgot takes up\", 38/41*100, \"percent of all Dream\")\n",
    "print(\"Perceived Waked by Wife_No takes up\", 31/41*100, \"percent of all Waked by Wife\")\n",
    "print(\"Perceived Waked by Wife Nocturia_Yes takes up\", 37/41*100, \"percent of all Wife Nocturia\")"
   ]
  },
  {
   "cell_type": "markdown",
   "metadata": {},
   "source": [
    "##### The most frequent categorical features and their frequency percentage:\n",
    "The categorical features mentioned here are the ones converted by One-Hot encoding.\n",
    "1. Perceived Temp_Fine: about 73%; \n",
    "2. Dream_Forgot: about 93%; \n",
    "3. Waked by Wife_No: about 76%; \n",
    "4. Wife Nocturia_Yes: about 90% \n",
    "\n",
    "This reflects the fact that most of the time:\n",
    "1. The subject perceived the room temperature as fine when he went to bed.\n",
    "2. He forgot his dream when he woke up in the morning.\n",
    "3. He was not waked by his wife during sleep.\n",
    "4. His wife did usually experience nocturia during his sleep, which probably did not wake him, not knowing if it disturbed his sleep or not."
   ]
  },
  {
   "cell_type": "code",
   "execution_count": 16,
   "metadata": {},
   "outputs": [
    {
     "data": {
      "image/png": "[encoded data removed]",
      "text/plain": [
       "<Figure size 864x360 with 6 Axes>"
      ]
     },
     "metadata": {
      "needs_background": "light"
     },
     "output_type": "display_data"
    }
   ],
   "source": [
    "## understanding the distribution of the numerical features\n",
    "# except the target variable \"Sleep Quality Level\"\n",
    "# creating a histogram (2x3 grid) for their distributions\n",
    "import matplotlib.pyplot as plt\n",
    "fig, axs = plt.subplots(2, 3, figsize=(12, 5))\n",
    "axs = axs.ravel()  \n",
    "selected_columns = sleepdata.iloc[:, 1:7]\n",
    "\n",
    "for i, col in enumerate(selected_columns.columns):\n",
    "    axs[i].hist(selected_columns[col], bins=10, edgecolor='black')\n",
    "    axs[i].set_title(col)\n",
    "    axs[i].set_xlabel('Value')\n",
    "    axs[i].set_ylabel('Frequency')\n",
    "\n",
    "plt.tight_layout()\n",
    "plt.show()"
   ]
  },
  {
   "cell_type": "markdown",
   "metadata": {},
   "source": [
    "##### The shape of each feature's distribution:\n",
    "From the histograms above, we can tell that:\n",
    "1. features with a roughly bell-shaped distribution (i.e. roughly normally distributed): 'Bedtime,' 'Waketime,' and 'Sleep Length,' indicating a rather even distribution around the average of the distribution, which is good\n",
    "\n",
    "2. feature with an apparently right-skewed distribution: 'Wake Freq,' indicating that the majority of its value is rather small; that is, the subject was not frequently waked by his wife during his sleep\n",
    "\n",
    "3. features with a roughly m-shaped/bimodal distribution: 'Day,' and 'Bedtime Temp,' indicating that these two features are more or less concentrated in two modes"
   ]
  },
  {
   "cell_type": "code",
   "execution_count": 17,
   "metadata": {},
   "outputs": [
    {
     "data": {
      "image/png": "[encoded data removed]",
      "text/plain": [
       "<Figure size 864x360 with 6 Axes>"
      ]
     },
     "metadata": {
      "needs_background": "light"
     },
     "output_type": "display_data"
    }
   ],
   "source": [
    "## checking for outliers in the numerical features\n",
    "# except the target variable \"Sleep Quality Level\"\n",
    "# creating a boxplot (2x3 grid) for their distributions\n",
    "import seaborn as sns\n",
    "fig, axes = plt.subplots(2, 3, figsize=(12, 5))\n",
    "axes = axes.ravel()\n",
    "\n",
    "for i, feature in enumerate(selected_columns.columns):\n",
    "    ax = axes[i]\n",
    "    sns.boxplot(data=sleepdata, x=feature, ax=ax)\n",
    "    ax.set_title(f'Boxplot of {feature}')\n",
    "    ax.set_xlabel('')\n",
    "    ax.set_ylabel('')\n",
    "\n",
    "plt.tight_layout()\n",
    "plt.show()"
   ]
  },
  {
   "cell_type": "markdown",
   "metadata": {},
   "source": [
    "##### Found Outliers: \n",
    "From the boxplots above, we can tell that there are outliers in the data in the following features:\n",
    "1. 'Bedtime': outliers are values > 26; <br>\n",
    "2. 'Sleep Length': outliers are values < 6; <br>\n",
    "3. 'Wake Freq': outliers are values > 1\n",
    "\n",
    "I will locate the rows with the outliers for each of these features to inspect them in context and then decide how to handle them."
   ]
  },
  {
   "cell_type": "code",
   "execution_count": 18,
   "metadata": {},
   "outputs": [
    {
     "name": "stdout",
     "output_type": "stream",
     "text": [
      "Bedtime outlier row:        Date  Day    Bedtime  Waketime  Sleep Length  Bedtime Temp  Wake Freq  \\\n",
      "44  6/19/22  7.0  26.333333       7.5      5.166667          29.8        0.0   \n",
      "\n",
      "    Sleep Quality Level  Perceived Temp_Cold  Perceived Temp_Fine  \\\n",
      "44                  5.0                    1                    0   \n",
      "\n",
      "    Perceived Temp_Hot  Dream_Forgot  Dream_Remember  Waked by Wife_No  \\\n",
      "44                   0             1               0                 1   \n",
      "\n",
      "    Waked by Wife_Unsure  Waked by Wife_Yes  Wife Nocturia_No  \\\n",
      "44                     0                  0                 0   \n",
      "\n",
      "    Wife Nocturia_Yes  \n",
      "44                  1   \n",
      "\n",
      "Sleep Length outlier row:        Date  Day    Bedtime  Waketime  Sleep Length  Bedtime Temp  Wake Freq  \\\n",
      "44  6/19/22  7.0  26.333333       7.5      5.166667          29.8        0.0   \n",
      "\n",
      "    Sleep Quality Level  Perceived Temp_Cold  Perceived Temp_Fine  \\\n",
      "44                  5.0                    1                    0   \n",
      "\n",
      "    Perceived Temp_Hot  Dream_Forgot  Dream_Remember  Waked by Wife_No  \\\n",
      "44                   0             1               0                 1   \n",
      "\n",
      "    Waked by Wife_Unsure  Waked by Wife_Yes  Wife Nocturia_No  \\\n",
      "44                     0                  0                 0   \n",
      "\n",
      "    Wife Nocturia_Yes  \n",
      "44                  1   \n",
      "\n",
      "Wake Freq outlier row:        Date  Day    Bedtime  Waketime  Sleep Length  Bedtime Temp  Wake Freq  \\\n",
      "5   5/11/22  3.0  23.000000       7.5      8.500000          27.3        6.0   \n",
      "36  6/11/22  6.0  24.666667       9.0      8.333333          28.0        3.0   \n",
      "\n",
      "    Sleep Quality Level  Perceived Temp_Cold  Perceived Temp_Fine  \\\n",
      "5                   4.0                    0                    1   \n",
      "36                  3.0                    1                    0   \n",
      "\n",
      "    Perceived Temp_Hot  Dream_Forgot  Dream_Remember  Waked by Wife_No  \\\n",
      "5                    0             1               0                 1   \n",
      "36                   0             1               0                 1   \n",
      "\n",
      "    Waked by Wife_Unsure  Waked by Wife_Yes  Wife Nocturia_No  \\\n",
      "5                      0                  0                 0   \n",
      "36                     0                  0                 0   \n",
      "\n",
      "    Wife Nocturia_Yes  \n",
      "5                   1  \n",
      "36                  1  \n"
     ]
    }
   ],
   "source": [
    "# locating the outliers\n",
    "BT_above_26 = sleepdata['Bedtime'] > 26\n",
    "BT_outliers = sleepdata[BT_above_26]\n",
    "print(\"Bedtime outlier row:\", BT_outliers, \"\\n\")\n",
    "\n",
    "SL_under_6 = sleepdata['Sleep Length'] < 6\n",
    "SL_outliers = sleepdata[SL_under_6]\n",
    "print(\"Sleep Length outlier row:\", SL_outliers, \"\\n\")\n",
    "\n",
    "WFreq_above_1 = sleepdata['Wake Freq'] > 1\n",
    "WFreq_outliers = sleepdata[WFreq_above_1]\n",
    "print(\"Wake Freq outlier row:\", WFreq_outliers)"
   ]
  },
  {
   "cell_type": "code",
   "execution_count": 19,
   "metadata": {},
   "outputs": [
    {
     "name": "stdout",
     "output_type": "stream",
     "text": [
      "number of rows before removing this row: 41\n",
      "number of rows after removing this row: 38\n"
     ]
    }
   ],
   "source": [
    "## handling outliers of Bedtime and Sleep Length\n",
    "# removing record for date 6/19/22, 5/11/22, and 6/11/22\n",
    "print(\"number of rows before removing this row:\", len(sleepdata))\n",
    "outlier_rows = sleepdata['Date'].isin(['6/19/22', '5/11/22', '6/11/22'])\n",
    "sleepdata = sleepdata[~outlier_rows]\n",
    "print(\"number of rows after removing this row:\", len(sleepdata))"
   ]
  },
  {
   "cell_type": "markdown",
   "metadata": {},
   "source": [
    "##### Handled the Outliers:\n",
    "After close inspection of the outliers, I discarded the row with sleep record for 'Date' 6/19/22, because it contains both the outliers of features 'Bedtime' and 'Sleep Length,' indicating that it deviates from an average night's sleep experience too much to be considered in the data. I also removed the row with sleep record for 'Date' '5/11/22' and '6/11/22' because they contain the only two outliers in 'Wake Freq.'"
   ]
  },
  {
   "cell_type": "code",
   "execution_count": 20,
   "metadata": {},
   "outputs": [
    {
     "data": {
      "image/png": "[encoded data removed]",
      "text/plain": [
       "<Figure size 720x576 with 2 Axes>"
      ]
     },
     "metadata": {
      "needs_background": "light"
     },
     "output_type": "display_data"
    }
   ],
   "source": [
    "## checking for multicollinearity\n",
    "# creating a heatmap for the correlation matrix of the numerical features \n",
    "# except the target variable \"Sleep Quality Level\"\n",
    "corr_matrix = selected_columns.corr()\n",
    "plt.figure(figsize=(10, 8))\n",
    "sns.heatmap(corr_matrix, annot=True, cmap='coolwarm', linewidths=0.5)\n",
    "plt.title('Correlation Matrix of the Numerical Features')\n",
    "plt.show()"
   ]
  },
  {
   "cell_type": "code",
   "execution_count": 21,
   "metadata": {},
   "outputs": [],
   "source": [
    "## handling multicollinearity\n",
    "# removing feature 'SLeep Length'\n",
    "sleepdata = sleepdata.drop('Sleep Length', axis=1)"
   ]
  },
  {
   "cell_type": "markdown",
   "metadata": {},
   "source": [
    "##### Found and Handled Multicollinearity:\n",
    "\n",
    "Multicollinearity is found from the correlation matrix above:\n",
    "1. features that exhibit a relatively strong, positive, linear correlation:\n",
    "'Waketime' and 'Sleep Length' (0.53), which is reasonable and expected, because 'Sleep Length' was a linear combination of 'Waketime' and 'Bedtime'; <br>\n",
    "\n",
    "2. features that exhibit a relatively strong, negative, linear correlation:\n",
    "'Bedtime' and 'Sleep Length' (-0.75), which is reasonable and expected as well, because 'Sleep Length' was a linear combination of 'Waketime' and 'Bedtime.' <br>\n",
    "\n",
    "Therefore I handled the issue of multicollinearity by removing 'Sleep Length,' the feature relatively strongly correlated with both 'Bedtime' and 'Waketime."
   ]
  },
  {
   "cell_type": "code",
   "execution_count": 22,
   "metadata": {},
   "outputs": [
    {
     "name": "stdout",
     "output_type": "stream",
     "text": [
      "number of samples for each class: 5.0    14\n",
      "3.0     7\n",
      "1.0     6\n",
      "7.0     3\n",
      "8.0     2\n",
      "4.0     2\n",
      "2.0     1\n",
      "0.0     1\n",
      "6.0     1\n",
      "9.0     1\n",
      "Name: Sleep Quality Level, dtype: int64\n",
      "class ratios: 5.0    0.368421\n",
      "3.0    0.184211\n",
      "1.0    0.157895\n",
      "7.0    0.078947\n",
      "8.0    0.052632\n",
      "4.0    0.052632\n",
      "2.0    0.026316\n",
      "0.0    0.026316\n",
      "6.0    0.026316\n",
      "9.0    0.026316\n",
      "Name: Sleep Quality Level, dtype: float64\n"
     ]
    },
    {
     "data": {
      "text/plain": [
       "<function matplotlib.pyplot.tight_layout(pad=1.08, h_pad=None, w_pad=None, rect=None)>"
      ]
     },
     "execution_count": 22,
     "metadata": {},
     "output_type": "execute_result"
    },
    {
     "data": {
      "image/png": "[encoded data removed]",
      "text/plain": [
       "<Figure size 432x288 with 1 Axes>"
      ]
     },
     "metadata": {
      "needs_background": "light"
     },
     "output_type": "display_data"
    }
   ],
   "source": [
    "## checking if the dataset is balanced or imbalanced\n",
    "# computing number of samples for each class and class ratio\n",
    "class_labels = sleepdata[\"Sleep Quality Level\"]\n",
    "class_counts = class_labels.value_counts()\n",
    "class_ratios = class_counts/class_counts.sum()\n",
    "print(\"number of samples for each class:\", class_counts)\n",
    "print(\"class ratios:\", class_ratios)\n",
    "\n",
    "# creating class distribution histogram\n",
    "plt.bar(class_counts.index, class_counts.values)\n",
    "plt.xlabel('Class Labels')\n",
    "plt.ylabel('Count')\n",
    "plt.title('Class Distribution Histogram')\n",
    "plt.xticks(ticks=range(0, 11), labels=range(0, 11))\n",
    "plt.tight_layout"
   ]
  },
  {
   "cell_type": "code",
   "execution_count": 23,
   "metadata": {},
   "outputs": [
    {
     "name": "stdout",
     "output_type": "stream",
     "text": [
      "class_counts: 5.0    14\n",
      "3.0     7\n",
      "1.0     6\n",
      "7.0     3\n",
      "8.0     2\n",
      "4.0     2\n",
      "2.0     1\n",
      "0.0     1\n",
      "6.0     1\n",
      "9.0     1\n",
      "Name: Sleep Quality Level, dtype: int64\n"
     ]
    }
   ],
   "source": [
    "class_counts = sleepdata['Sleep Quality Level'].value_counts()\n",
    "print(f\"class_counts:\", class_counts)"
   ]
  },
  {
   "cell_type": "markdown",
   "metadata": {},
   "source": [
    "##### Imbalanced Data:\n",
    "From the computed class count and the skewed class ratio, we can tell that this dataset is imbalanced."
   ]
  },
  {
   "cell_type": "code",
   "execution_count": 24,
   "metadata": {},
   "outputs": [
    {
     "name": "stdout",
     "output_type": "stream",
     "text": [
      "data info after EDA:\n",
      "<class 'pandas.core.frame.DataFrame'>\n",
      "Int64Index: 38 entries, 0 to 45\n",
      "Data columns (total 17 columns):\n",
      " #   Column                Non-Null Count  Dtype  \n",
      "---  ------                --------------  -----  \n",
      " 0   Date                  38 non-null     object \n",
      " 1   Day                   38 non-null     float64\n",
      " 2   Bedtime               38 non-null     float64\n",
      " 3   Waketime              38 non-null     float64\n",
      " 4   Bedtime Temp          38 non-null     float64\n",
      " 5   Wake Freq             38 non-null     float64\n",
      " 6   Sleep Quality Level   38 non-null     float64\n",
      " 7   Perceived Temp_Cold   38 non-null     uint8  \n",
      " 8   Perceived Temp_Fine   38 non-null     uint8  \n",
      " 9   Perceived Temp_Hot    38 non-null     uint8  \n",
      " 10  Dream_Forgot          38 non-null     uint8  \n",
      " 11  Dream_Remember        38 non-null     uint8  \n",
      " 12  Waked by Wife_No      38 non-null     uint8  \n",
      " 13  Waked by Wife_Unsure  38 non-null     uint8  \n",
      " 14  Waked by Wife_Yes     38 non-null     uint8  \n",
      " 15  Wife Nocturia_No      38 non-null     uint8  \n",
      " 16  Wife Nocturia_Yes     38 non-null     uint8  \n",
      "dtypes: float64(6), object(1), uint8(10)\n",
      "memory usage: 2.7+ KB\n",
      "data shape after EDA:\n"
     ]
    },
    {
     "data": {
      "text/plain": [
       "(38, 17)"
      ]
     },
     "execution_count": 24,
     "metadata": {},
     "output_type": "execute_result"
    }
   ],
   "source": [
    "# summary statistics of the finalized dataset\n",
    "print(\"data info after EDA:\")\n",
    "sleepdata.info()\n",
    "\n",
    "print(\"data shape after EDA:\")\n",
    "sleepdata.shape"
   ]
  },
  {
   "cell_type": "markdown",
   "metadata": {},
   "source": [
    "##### EDA Summary:\n",
    "1. computed feature simple statistics;\n",
    "2. graphed feature distribution: Note that 'Wake Freq' is right-skewed, which visualized the fact that the majority of its values is small;\n",
    "3. removed outliers: removed row for 'Date' 6/19/22, 5/11/22, and 6/11/22;\n",
    "4. found correlated features: 'Waketime' and 'Sleep Length' (0.53), 'Bedtime' and 'Sleep Length' (-0.75); <br>\n",
    "5. handled multicolinearity: removed 'Sleep Length'; \n",
    "6. class label distribution: imbalanced, which should be handled during model construction; <br>\n",
    "7. finalized dataset data shape: 38 rows * 17 columns; <br>\n",
    "8. finalized feature selection: <br>\n",
    "one feature for the referece of each sleep instance: 'Date'<br>\n",
    "one feature as the output variable y (i.e. the prediction label): 'Slept Quality Level' <br>\n",
    "the rest of the fifteen features as the input variable X: 'Day,' 'Bedtime,' 'Waketime,' 'Bedtime Temp,' 'Wake Freq,' 'Perceived Temp_Cold' 'Perceived Temp_Fine,' 'Perceived Temp_Hot,' 'Dream_Forgot,' 'Dream_Remember,' 'Waked by Wife_No,' 'Waked by Wife_Unsure,' 'Waked by Wife_Yes,' 'Wife Nocturia_No,' 'Wife Nocturia_Yes' <br>\n",
    "\n",
    "After doing data splitting in the next section, I will scale the input features in X, because SVM is sensitive to feature scales. If applicable, I will and perform a resampling technique, SMOTE, on X_train and y_train to mitigate the impact of imbalance data and improve model performance. That is, ideally, X_train_smote and y_train_smote will be used to build the model so that it will learn from the SMOTE-generated, synthesized, balanced dataset without favoring the majority class; while, X_train_scaled and X_test_scaled will be used to test the model so that I can evaluate its performance on the real, imbalanced dataset."
   ]
  },
  {
   "cell_type": "markdown",
   "metadata": {},
   "source": [
    "### 4. Analysis: Model Building, Training, Testing, Evaluation\n",
    "In this section, I will build the three models described in section, namely the purely supervised SVM, and the unsupervised-supervised hybrid Kmeans_SVM, and Agg_SVM models. I will try to optimize their performance by doing hyperparameter tuning and gridsearch to find their best parameters. The models will be trained using the training dataset X_train  and X_test, and further tested using the test dataset y_test. Finally, I will evaluate the models using several evaluation metrics, including accuracy score, f1-score, and rsme. AUC score is not computed here since y_test does not contain all the class labels because the dataset is small and imbalanced. <br>\n",
    "\n",
    "As mentioned before, I will try to do feature scaling and resampling (using SMOTE) after data splitting to mitigate the impact of the imbalance, small dataset on model performance."
   ]
  },
  {
   "cell_type": "markdown",
   "metadata": {},
   "source": [
    "##### 4.1 Data Splitting"
   ]
  },
  {
   "cell_type": "code",
   "execution_count": 25,
   "metadata": {},
   "outputs": [
    {
     "name": "stdout",
     "output_type": "stream",
     "text": [
      "data shape: (38, 17) \n",
      "\n",
      "X_train shape: (30, 15)  X_train datatype: <class 'pandas.core.frame.DataFrame'>\n",
      "X_test shape: (8, 15)  y_train datatype: <class 'numpy.ndarray'>\n",
      "y_train shape: (30,)  X_test datatype: <class 'pandas.core.frame.DataFrame'>\n",
      "y_test shape: (8,)  y_test datatype: <class 'numpy.ndarray'> \n",
      "\n",
      "unique classes in y_train: [0. 1. 3. 4. 5. 6. 7. 8. 9.]\n",
      "unique classes in y_test: [1. 2. 3. 4. 5. 7.]\n",
      "y_test does not contain all the class labels because the dataset is imbalanced.\n"
     ]
    }
   ],
   "source": [
    "## splitting the modified dataset into a training set (90%) and a testing set (20%)\n",
    "# getting a smaller test set because the dataset is small\n",
    "from sklearn.model_selection import train_test_split\n",
    "import numpy as np\n",
    "\n",
    "X = sleepdata[['Day', 'Bedtime', 'Waketime', 'Bedtime Temp', 'Wake Freq', \n",
    "               'Perceived Temp_Cold', 'Perceived Temp_Fine', 'Perceived Temp_Hot', 'Dream_Forgot', 'Dream_Remember', \n",
    "               'Waked by Wife_No', 'Waked by Wife_Unsure', 'Waked by Wife_Yes', 'Wife Nocturia_No', 'Wife Nocturia_Yes']]\n",
    "y = sleepdata['Sleep Quality Level'].values\n",
    "\n",
    "X_train, X_test, y_train, y_test = train_test_split(X, y, test_size=0.2, shuffle=True, \n",
    "                                                    random_state=1234) #, stratify=y)\n",
    "\n",
    "print(\"data shape:\", sleepdata.shape, \"\\n\")\n",
    "print(\"X_train shape:\", X_train.shape, \" X_train datatype:\", type(X_train))\n",
    "print(\"X_test shape:\", X_test.shape, \" y_train datatype:\", type(y_train))\n",
    "print(\"y_train shape:\", y_train.shape, \" X_test datatype:\", type(X_test))\n",
    "print(\"y_test shape:\", y_test.shape, \" y_test datatype:\", type(y_test), \"\\n\")\n",
    "\n",
    "print(\"unique classes in y_train:\", np.unique(y_train))\n",
    "print(\"unique classes in y_test:\", np.unique(y_test))\n",
    "print(\"y_test does not contain all the class labels because the dataset is imbalanced.\")"
   ]
  },
  {
   "cell_type": "code",
   "execution_count": 26,
   "metadata": {},
   "outputs": [],
   "source": [
    "## scaling X_train and X_test because SVM is sensitive to feature scales\n",
    "from sklearn.preprocessing import StandardScaler\n",
    "scaler = StandardScaler()\n",
    "X_train_scaled = scaler.fit_transform(X_train)\n",
    "X_test_scaled = scaler.transform(X_test)"
   ]
  },
  {
   "cell_type": "markdown",
   "metadata": {},
   "source": [
    "##### Note that:\n",
    "However, after a few iterations and modifications, SMOTE turned out to be not applicable here, since a few minority classes has only 1 instance each. Random oversampling and other resampling techniques will also introduce higher risk of overfitting. Thus, gathering more real-world samples is likely the only solution here. I will proceed model training and evaluation with the scaled X_train and X_test."
   ]
  },
  {
   "cell_type": "markdown",
   "metadata": {},
   "source": [
    "##### 4.2 Pure Supervised Approach: Support Vector Machine (SVM)"
   ]
  },
  {
   "cell_type": "code",
   "execution_count": 27,
   "metadata": {},
   "outputs": [
    {
     "name": "stdout",
     "output_type": "stream",
     "text": [
      "Fitting 5 folds for each of 18 candidates, totalling 90 fits\n",
      "SVM_model_best_params = {'C': 10, 'gamma': 'scale', 'kernel': 'linear'}\n"
     ]
    }
   ],
   "source": [
    "# building the SVM model with hyperparameter tuning using 5-fold cross validation with GridSearchCV\n",
    "from sklearn.svm import SVC\n",
    "from sklearn.model_selection import GridSearchCV\n",
    "SVM_model = SVC(random_state=42, probability=True, class_weight='balanced')\n",
    "#class_weight='balanced': to balance the classes\n",
    "\n",
    "param_grid = {\n",
    "    'C': [0.01, 0.1, 10],\n",
    "    'kernel': ['linear', 'rbf', 'poly'],\n",
    "    'gamma': ['scale', 'auto']\n",
    "}\n",
    "\n",
    "SVM_model_grid_search = GridSearchCV(SVM_model, param_grid, cv=5, verbose=1, n_jobs=-1)\n",
    "SVM_model_grid_search.fit(X_train_scaled, y_train)\n",
    "SVM_model_best_params = SVM_model_grid_search.best_params_\n",
    "print(\"SVM_model_best_params =\", SVM_model_best_params)"
   ]
  },
  {
   "cell_type": "code",
   "execution_count": 28,
   "metadata": {},
   "outputs": [
    {
     "name": "stdout",
     "output_type": "stream",
     "text": [
      "best SVM_model =  SVC(C=10, class_weight='balanced', kernel='linear', probability=True,\n",
      "    random_state=42)\n"
     ]
    }
   ],
   "source": [
    "# best SVM_model defined after got the SVM_model_best_params\n",
    "SVM_model = SVC(random_state=42, probability=True, class_weight='balanced', C=10, gamma='scale', kernel='linear')\n",
    "print(\"best SVM_model = \", SVM_model)"
   ]
  },
  {
   "cell_type": "code",
   "execution_count": 29,
   "metadata": {},
   "outputs": [
    {
     "name": "stdout",
     "output_type": "stream",
     "text": [
      "SVM_y_pred_train: [3. 1. 5. 9. 3. 5. 5. 4. 5. 3. 5. 6. 7. 5. 3. 8. 5. 0. 8. 3. 7. 1. 5. 1.\n",
      " 5. 5. 3. 1. 1. 5.]\n",
      "SVM_y_pred_test: [3. 5. 0. 5. 5. 5. 0. 3.]\n"
     ]
    }
   ],
   "source": [
    "# make predictions from the training dataset using the SVM_model\n",
    "SVM_y_pred_train = SVM_model_grid_search.predict(X_train_scaled)\n",
    "print(\"SVM_y_pred_train:\", SVM_y_pred_train)\n",
    "\n",
    "# make predictions from the test dataset using the SVM_model\n",
    "SVM_y_pred_test = SVM_model_grid_search.predict(X_test_scaled)\n",
    "print(\"SVM_y_pred_test:\", SVM_y_pred_test)"
   ]
  },
  {
   "cell_type": "code",
   "execution_count": 30,
   "metadata": {},
   "outputs": [
    {
     "name": "stdout",
     "output_type": "stream",
     "text": [
      "SVM_train_accuracy = 1.0\n",
      "SVM_test_accuracy = 0.125\n"
     ]
    }
   ],
   "source": [
    "## evaluating the performance of the SVM_model\n",
    "# accuracy score of the SVM_model\n",
    "from sklearn.metrics import accuracy_score\n",
    "SVM_train_accuracy = accuracy_score(y_train, SVM_y_pred_train)\n",
    "SVM_test_accuracy = accuracy_score(y_test, SVM_y_pred_test)\n",
    "print(\"SVM_train_accuracy =\", SVM_train_accuracy)\n",
    "print(\"SVM_test_accuracy =\", SVM_test_accuracy)"
   ]
  },
  {
   "cell_type": "code",
   "execution_count": 31,
   "metadata": {},
   "outputs": [
    {
     "name": "stdout",
     "output_type": "stream",
     "text": [
      "SVM_train_f1 = 1.0\n",
      "SVM_test_f1 = 0.10714285714285715\n"
     ]
    }
   ],
   "source": [
    "# f1-score of the SVM_model\n",
    "from sklearn.metrics import f1_score\n",
    "SVM_train_f1 = f1_score(y_train, SVM_y_pred_train, average='weighted')\n",
    "SVM_test_f1 = f1_score(y_test, SVM_y_pred_test, average='weighted')\n",
    "print(\"SVM_train_f1 =\", SVM_train_f1)\n",
    "print(\"SVM_test_f1 =\", SVM_test_f1)"
   ]
  },
  {
   "cell_type": "code",
   "execution_count": 32,
   "metadata": {},
   "outputs": [
    {
     "name": "stdout",
     "output_type": "stream",
     "text": [
      "SVM_rmse_train = 0.0\n",
      "SVM_rmse_test = 2.9154759474226504\n"
     ]
    }
   ],
   "source": [
    "# rmse of the SVM_model\n",
    "from sklearn.metrics import mean_squared_error\n",
    "from math import sqrt\n",
    "\n",
    "SVM_rmse_train = sqrt(mean_squared_error(y_train, SVM_y_pred_train))\n",
    "print(\"SVM_rmse_train =\", SVM_rmse_train)\n",
    "\n",
    "SVM_rmse_test = sqrt(mean_squared_error(y_test, SVM_y_pred_test))\n",
    "print(\"SVM_rmse_test =\", SVM_rmse_test)"
   ]
  },
  {
   "cell_type": "markdown",
   "metadata": {},
   "source": [
    "##### SVM Model Summary:\n",
    "1. SVM_model = SVC(C=10, class_weight='balanced', kernel='linear', probability=True,\n",
    "    random_state=42)\n",
    "<br><br>\n",
    "2. accuracy score of the training dataset: SVM_train_accuracy = 1.0\n",
    "3. accuracy score of the test dataset: SVM_test_accuracy = 0.125\n",
    "<br><br>\n",
    "4. f1-score of the training dataset: SVM_train_f1 = 1.0\n",
    "5. f1-score of the test dataset: SVM_test_f1 = 0.10714285714285715\n",
    "<br><br>\n",
    "6. rsme of the training dataset: SVM_rmse_train = 0.0\n",
    "7. rsme of the test dataset: SVM_rmse_test = 2.9154759474226504\n",
    "<br><br>\n",
    "8. SVM_y_pred_train: [3. 1. 5. 9. 3. 5. 5. 4. 5. 3. 5. 6. 7. 5. 3. 8. 5. 0. 8. 3. 7. 1. 5. 1. 5. 5. 3. 1. 1. 5.]\n",
    "9. SVM_y_pred_test: [3. 5. 0. 5. 5. 5. 0. 3.]\n",
    "\n",
    "There seems to be some sever overfitting in the SVM_model, since it performs well on the training set but poorly on the test set, probably caused by the imbalanced, small dataset."
   ]
  },
  {
   "cell_type": "markdown",
   "metadata": {},
   "source": [
    "##### 4.3 Unsupervised + Supervised Hybrid Approach 1: K-means Clustering + SVM"
   ]
  },
  {
   "cell_type": "code",
   "execution_count": 33,
   "metadata": {},
   "outputs": [
    {
     "name": "stdout",
     "output_type": "stream",
     "text": [
      "Fitting 5 folds for each of 54 candidates, totalling 270 fits\n",
      "KMeans_SVM best parameters:  {'kmeans__n_clusters': 6, 'svm__C': 0.1, 'svm__gamma': 'auto', 'svm__kernel': 'rbf'}\n",
      "best_kmeans:  KMeans(n_clusters=6, random_state=42)\n",
      "best_svm:  SVC(C=0.1, class_weight='balanced', gamma='auto', probability=True,\n",
      "    random_state=42)\n"
     ]
    }
   ],
   "source": [
    "from sklearn.pipeline import Pipeline\n",
    "#from sklearn.model_selection import GridSearchCV\n",
    "from sklearn.cluster import KMeans\n",
    "\n",
    "# defining the KMeans_SVM pipeline\n",
    "KMeans_SVM_pipeline = Pipeline([\n",
    "    ('kmeans', KMeans(random_state=42)), \n",
    "    ('svm', SVC(random_state=42,probability=True, class_weight='balanced')) \n",
    "]) #class_weight='balanced': to balance the classes\n",
    "\n",
    "# defining the KMeans_SVM hyperparameters and their possible values\n",
    "KMeans_SVM_param_grid = {\n",
    "    'kmeans__n_clusters': [5, 6, 7],  # number of clusters for k-means clustering\n",
    "    'svm__C': [0.1, 1, 10],  # regularization parameter for SVM\n",
    "    'svm__kernel': ['linear', 'rbf', 'poly'],  # kernel type for SVM\n",
    "    'svm__gamma': ['scale', 'auto'] #gamma for SVM\n",
    "}\n",
    "\n",
    "# performing grid search for KMeans_SVM with 5-fold cross-validation\n",
    "KMeans_SVM_grid_search = GridSearchCV(KMeans_SVM_pipeline, KMeans_SVM_param_grid, cv=5, verbose=1, n_jobs=-1)\n",
    "KMeans_SVM_grid_search.fit(X_train_scaled, y_train)\n",
    "\n",
    "# displaying the best parameters\n",
    "print(\"KMeans_SVM best parameters: \", KMeans_SVM_grid_search.best_params_)\n",
    "\n",
    "# extracting the best K-means and SVM models\n",
    "best_kmeans = KMeans_SVM_grid_search.best_estimator_.named_steps['kmeans']\n",
    "best_svm = KMeans_SVM_grid_search.best_estimator_.named_steps['svm']\n",
    "\n",
    "# displaying the best models\n",
    "print(\"best_kmeans: \", best_kmeans)\n",
    "print(\"best_svm: \", best_svm)"
   ]
  },
  {
   "cell_type": "code",
   "execution_count": 34,
   "metadata": {},
   "outputs": [
    {
     "name": "stdout",
     "output_type": "stream",
     "text": [
      "KMeans_SVM_y_pred_train = [3. 3. 3. 9. 9. 3. 3. 4. 8. 0. 7. 6. 7. 4. 9. 6. 6. 0. 0. 3. 8. 0. 3. 6.\n",
      " 9. 7. 0. 3. 7. 0.]\n",
      "KMeans_SVM_y_pred_test = [3. 3. 3. 3. 3. 0. 0. 9.]\n"
     ]
    }
   ],
   "source": [
    "# making predictions on the training set\n",
    "KMeans_SVM_y_pred_train = KMeans_SVM_grid_search.predict(X_train_scaled)\n",
    "print(\"KMeans_SVM_y_pred_train =\", KMeans_SVM_y_pred_train)\n",
    "\n",
    "# making predictions on the test set\n",
    "KMeans_SVM_y_pred_test = KMeans_SVM_grid_search.predict(X_test_scaled)\n",
    "print(\"KMeans_SVM_y_pred_test =\", KMeans_SVM_y_pred_test)"
   ]
  },
  {
   "cell_type": "code",
   "execution_count": 35,
   "metadata": {},
   "outputs": [
    {
     "name": "stdout",
     "output_type": "stream",
     "text": [
      "KMeans_SVM_train_accuracy = 0.23333333333333334\n",
      "KMeans_SVM_test_accuracy = 0.125\n"
     ]
    }
   ],
   "source": [
    "## evaluating the performance of the KMeans_SVM\n",
    "# accuracy score of the KMeans_SVM\n",
    "#from sklearn.metrics import accuracy_score\n",
    "KMeans_SVM_train_accuracy = accuracy_score(y_train, KMeans_SVM_y_pred_train)\n",
    "KMeans_SVM_test_accuracy = accuracy_score(y_test, KMeans_SVM_y_pred_test)\n",
    "print(\"KMeans_SVM_train_accuracy =\", KMeans_SVM_train_accuracy)\n",
    "print(\"KMeans_SVM_test_accuracy =\", KMeans_SVM_test_accuracy)"
   ]
  },
  {
   "cell_type": "code",
   "execution_count": 36,
   "metadata": {},
   "outputs": [
    {
     "name": "stdout",
     "output_type": "stream",
     "text": [
      "KMeans_SVM_train_f1 = 0.1377777777777778\n",
      "KMeans_SVM_test_f1 = 0.04166666666666667\n"
     ]
    }
   ],
   "source": [
    "# f1-score of the KMeans_SVM\n",
    "#from sklearn.metrics import f1_score\n",
    "KMeans_SVM_train_f1 = f1_score(y_train, KMeans_SVM_y_pred_train, average='weighted')\n",
    "KMeans_SVM_test_f1 = f1_score(y_test, KMeans_SVM_y_pred_test, average='weighted')\n",
    "print(\"KMeans_SVM_train_f1 =\", KMeans_SVM_train_f1)\n",
    "print(\"KMeans_SVM_test_f1 =\", KMeans_SVM_test_f1)"
   ]
  },
  {
   "cell_type": "code",
   "execution_count": 37,
   "metadata": {},
   "outputs": [
    {
     "name": "stdout",
     "output_type": "stream",
     "text": [
      "KMeans_SVM_rmse_train = 3.1885210782848317\n",
      "KMeans_SVM_rmse_test = 2.8284271247461903\n"
     ]
    }
   ],
   "source": [
    "# rmse of the KMeans_SVM\n",
    "#from sklearn.metrics import mean_squared_error\n",
    "#from math import sqrt\n",
    "\n",
    "KMeans_SVM_rmse_train = sqrt(mean_squared_error(y_train,KMeans_SVM_y_pred_train))\n",
    "print(\"KMeans_SVM_rmse_train =\", KMeans_SVM_rmse_train)\n",
    "\n",
    "KMeans_SVM_rmse_test = sqrt(mean_squared_error(y_test, KMeans_SVM_y_pred_test))\n",
    "print(\"KMeans_SVM_rmse_test =\", KMeans_SVM_rmse_test)"
   ]
  },
  {
   "cell_type": "markdown",
   "metadata": {},
   "source": [
    "##### KMeans_SVM Hybrid Model Summary:\n",
    "1. Kmeans_SVM:<br>\n",
    "best_kmeans = KMeans(n_clusters=6, random_state=42)\n",
    "<br><br>\n",
    "best_SVM = SVC(C=0.1, class_weight='balanced', gamma='auto', probability=True,\n",
    "    random_state=42)\n",
    "<br><br>\n",
    "2. accuracy score of the training dataset: KMeans_SVM_train_accuracy = 0.23333333333333334\n",
    "3. accuracy score of the test dataset: KMeans_SVM_test_accuracy = 0.125\n",
    "<br><br>\n",
    "4. f1-score of the training dataset: KMeans_SVM_train_f1 = 0.1377777777777778\n",
    "5. f1-score of the test dataset: KMeans_SVM_test_f1 = 0.04166666666666667\n",
    "<br><br>\n",
    "6. rsme of the training dataset: KMeans_SVM_rmse_train = 3.1885210782848317\n",
    "7. rsme of the test dataset: KMeans_SVM_rmse_test = 2.8284271247461903\n",
    "<br><br>\n",
    "8. KMeans_SVM_y_pred_train = [3. 3. 3. 9. 9. 3. 3. 4. 8. 0. 7. 6. 7. 4. 9. 6. 6. 0. 0. 3. 8. 0. 3. 6. 9. 7. 0. 3. 7. 0.]\n",
    "9. KMeans_SVM_y_pred_test = [3. 3. 3. 3. 3. 0. 0. 9.]\n",
    "\n",
    "KMeans_SVM performs poorly both on the training set and the test set, with overfitting still in affect."
   ]
  },
  {
   "cell_type": "markdown",
   "metadata": {},
   "source": [
    "##### 4.4 Unsupervised + Supervised Hybrid Approach 2: Agglomerative Hierarchical Clustering + SVM"
   ]
  },
  {
   "cell_type": "code",
   "execution_count": 38,
   "metadata": {},
   "outputs": [
    {
     "name": "stdout",
     "output_type": "stream",
     "text": [
      "Fitting 5 folds for each of 216 candidates, totalling 1080 fits\n",
      "Agg_SVM Best parameters:  {'agg_clustering__linkage': 'ward', 'agg_clustering__n_clusters': 2, 'svm__C': 10, 'svm__gamma': 'scale', 'svm__kernel': 'linear'}\n",
      "best_agg: AggClusteringTransformer(n_clusters=2)\n",
      "best_svm:  SVC(C=10, class_weight='balanced', kernel='linear', probability=True,\n",
      "    random_state=42)\n"
     ]
    }
   ],
   "source": [
    "from sklearn.cluster import AgglomerativeClustering\n",
    "from sklearn.base import BaseEstimator, TransformerMixin\n",
    "\n",
    "class AggClusteringTransformer(BaseEstimator, TransformerMixin):\n",
    "    def __init__(self, n_clusters=3, linkage='ward'):\n",
    "        self.n_clusters = n_clusters\n",
    "        self.linkage = linkage\n",
    "        self.clusterer = AgglomerativeClustering(n_clusters=self.n_clusters, linkage=self.linkage)\n",
    "        \n",
    "    def fit(self, X, y=None):\n",
    "        self.clusterer.fit(X)\n",
    "        return self\n",
    "    \n",
    "    def transform(self, X):\n",
    "        labels = self.clusterer.fit_predict(X)\n",
    "        return np.c_[X, labels]\n",
    "    \n",
    "# defining the Agg_SVM pipeline\n",
    "Agg_SVM_pipeline = Pipeline([\n",
    "    ('agg_clustering', AggClusteringTransformer(n_clusters=3)),\n",
    "    ('svm', SVC(random_state=42, probability=True, class_weight='balanced'))\n",
    "]) #class_weight='balanced': to balance the classes\n",
    "\n",
    "# defining the Agg_SVM hyperparameters and their possible values\n",
    "Agg_SVM_param_grid = {\n",
    "    'agg_clustering__n_clusters': [2, 3, 4],  # number of clusters for Agglomerative Clustering\n",
    "    'agg_clustering__linkage': ['ward', 'complete', 'average', 'single'],\n",
    "    'svm__C': [0.1, 1, 10],  # regularization parameter for SVM\n",
    "    'svm__kernel': ['linear', 'rbf', 'poly'],  # kernel type for SVM\n",
    "    'svm__gamma': ['scale', 'auto'] #gamma for SVM\n",
    "}\n",
    "\n",
    "# performing grid search for Agg_SVM with 5-fold cross-validation\n",
    "Agg_SVM_grid_search = GridSearchCV(Agg_SVM_pipeline, Agg_SVM_param_grid, cv=5, verbose=1, n_jobs=-1)\n",
    "Agg_SVM_grid_search.fit(X_train_scaled, y_train)\n",
    "\n",
    "# displaying the best parameters\n",
    "print(\"Agg_SVM Best parameters: \", Agg_SVM_grid_search.best_params_)\n",
    "\n",
    "# extracting the best Agglomerative Clustering and SVM models\n",
    "best_agg = Agg_SVM_grid_search.best_estimator_.named_steps['agg_clustering']\n",
    "best_svm = Agg_SVM_grid_search.best_estimator_.named_steps['svm']\n",
    "\n",
    "# Display the best models\n",
    "print(\"best_agg:\", best_agg)\n",
    "print(\"best_svm: \", best_svm)"
   ]
  },
  {
   "cell_type": "code",
   "execution_count": 39,
   "metadata": {},
   "outputs": [
    {
     "name": "stdout",
     "output_type": "stream",
     "text": [
      "Agg_SVM_y_pred_train = [3. 1. 5. 9. 3. 5. 5. 4. 5. 3. 5. 6. 7. 5. 3. 8. 5. 0. 8. 3. 7. 1. 5. 1.\n",
      " 5. 5. 3. 1. 1. 5.]\n",
      "Agg_SVM_y_pred_test = [3. 5. 0. 5. 5. 5. 0. 3.]\n"
     ]
    }
   ],
   "source": [
    "# making predictions on the training set\n",
    "Agg_SVM_y_pred_train = Agg_SVM_grid_search.predict(X_train_scaled)\n",
    "print(\"Agg_SVM_y_pred_train =\", Agg_SVM_y_pred_train)\n",
    "\n",
    "# making predictions on the test set\n",
    "Agg_SVM_y_pred_test = Agg_SVM_grid_search.predict(X_test_scaled)\n",
    "print(\"Agg_SVM_y_pred_test =\", Agg_SVM_y_pred_test)"
   ]
  },
  {
   "cell_type": "code",
   "execution_count": 40,
   "metadata": {},
   "outputs": [
    {
     "name": "stdout",
     "output_type": "stream",
     "text": [
      "Agg_SVM_train_accuracy = 1.0\n",
      "Agg_SVM_test_accuracy = 0.125\n"
     ]
    }
   ],
   "source": [
    "## evaluating the performance of the Agg_SVM\n",
    "# accuracy score of the Agg_SVM\n",
    "#from sklearn.metrics import accuracy_score\n",
    "Agg_SVM_train_accuracy = accuracy_score(y_train, Agg_SVM_y_pred_train)\n",
    "Agg_SVM_test_accuracy = accuracy_score(y_test, Agg_SVM_y_pred_test)\n",
    "print(\"Agg_SVM_train_accuracy =\", Agg_SVM_train_accuracy)\n",
    "print(\"Agg_SVM_test_accuracy =\", Agg_SVM_test_accuracy)"
   ]
  },
  {
   "cell_type": "code",
   "execution_count": 41,
   "metadata": {},
   "outputs": [
    {
     "name": "stdout",
     "output_type": "stream",
     "text": [
      "Agg_SVM_train_f1 = 1.0\n",
      "Agg_SVM_test_f1 = 0.10714285714285715\n"
     ]
    }
   ],
   "source": [
    "# f1-score of the Agg_SVM\n",
    "#from sklearn.metrics import f1_score\n",
    "Agg_SVM_train_f1 = f1_score(y_train, Agg_SVM_y_pred_train, average='weighted')\n",
    "Agg_SVM_test_f1 = f1_score(y_test, Agg_SVM_y_pred_test, average='weighted')\n",
    "print(\"Agg_SVM_train_f1 =\", Agg_SVM_train_f1)\n",
    "print(\"Agg_SVM_test_f1 =\", Agg_SVM_test_f1)"
   ]
  },
  {
   "cell_type": "code",
   "execution_count": 42,
   "metadata": {},
   "outputs": [
    {
     "name": "stdout",
     "output_type": "stream",
     "text": [
      "Agg_SVM_rmse_train = 0.0\n",
      "Agg_SVM_rmse_test = 2.9154759474226504\n"
     ]
    }
   ],
   "source": [
    "# rmse of the Agg_SVM\n",
    "#from sklearn.metrics import mean_squared_error\n",
    "#from math import sqrt\n",
    "\n",
    "Agg_SVM_rmse_train = sqrt(mean_squared_error(y_train, Agg_SVM_y_pred_train))\n",
    "print(\"Agg_SVM_rmse_train =\", Agg_SVM_rmse_train)\n",
    "\n",
    "Agg_SVM_rmse_test = sqrt(mean_squared_error(y_test, Agg_SVM_y_pred_test))\n",
    "print(\"Agg_SVM_rmse_test =\", Agg_SVM_rmse_test)"
   ]
  },
  {
   "cell_type": "markdown",
   "metadata": {},
   "source": [
    "##### Agg_SVM Hybrid Model Summary:\n",
    "1. Agg_SVM: <br>\n",
    "best_agg = AggClusteringTransformer(n_clusters=2)\n",
    "<br><br>\n",
    "best_svm = SVC(C=10, class_weight='balanced', kernel='linear', probability=True,\n",
    "    random_state=42)\n",
    "<br><br>   \n",
    "2. accuracy score of the training dataset: Agg_SVM_train_accuracy = 1.0\n",
    "3. accuracy score of the test dataset: Agg_SVM_test_accuracy = 0.125\n",
    "<br><br>\n",
    "4. f1-score of the training dataset: Agg_SVM_train_f1 = 1.0\n",
    "5. f1-score of the test dataset: Agg_SVM_test_f1 = 0.10714285714285715\n",
    "<br><br>\n",
    "6. rsme of the training dataset: Agg_SVM_rmse_train = 0.0\n",
    "7. rsme of the test dataset: Agg_SVM_rmse_test = 2.9154759474226504\n",
    "<br><br>\n",
    "8. Agg_SVM_y_pred_train = [3. 1. 5. 9. 3. 5. 5. 4. 5. 3. 5. 6. 7. 5. 3. 8. 5. 0. 8. 3. 7. 1. 5. 1. 5. 5. 3. 1. 1. 5.]\n",
    "9. Agg_SVM_y_pred_test = [3. 5. 0. 5. 5. 5. 0. 3.]\n",
    "\n",
    "Similar to SVM_model, there seems to be some sever overfitting in the Agg_SVM, since it performs well on the training set but poorly on the test set, probably caused by the imbalanced, small dataset. Coincidentally, Agg_SVM has the same scores for all the evaluation metrics as SVM_model, probably because that it has an agglomerative clustering with hyperparmeter n_clusters=2, and a SVM with the same hyperparameters as the SVM_model. Note that this happened after hyperparameter tuning. I did not manually set the hyperparameters in Agg_SVM as the same in SVM_model."
   ]
  },
  {
   "cell_type": "markdown",
   "metadata": {},
   "source": [
    "### 5. Model Comparison"
   ]
  },
  {
   "cell_type": "markdown",
   "metadata": {},
   "source": [
    "The models I constructed with hyperparmeter tuning are:\n",
    "1. SVM_model = SVC(C=10, class_weight='balanced', kernel='linear', probability=True, random_state=42)\n",
    "2. Kmeans_SVM: <br>\n",
    "best_kmeans = KMeans(n_clusters=6, random_state=42)\n",
    "best_SVM = SVC(C=0.1, class_weight='balanced', gamma='auto', probability=True, random_state=42)<br>\n",
    "3. Agg_SVM: <br>\n",
    "best_agg = AggClusteringTransformer(n_clusters=2)\n",
    "best_svm = SVC(C=10, class_weight='balanced', kernel='linear', probability=True, random_state=42)\n",
    "<br>\n",
    "\n",
    "The following table is a comparison of their score of the selected evaluation metrics:"
   ]
  },
  {
   "cell_type": "code",
   "execution_count": 43,
   "metadata": {},
   "outputs": [
    {
     "data": {
      "text/html": [
       "<div>\n",
       "<style scoped>\n",
       "    .dataframe tbody tr th:only-of-type {\n",
       "        vertical-align: middle;\n",
       "    }\n",
       "\n",
       "    .dataframe tbody tr th {\n",
       "        vertical-align: top;\n",
       "    }\n",
       "\n",
       "    .dataframe thead th {\n",
       "        text-align: right;\n",
       "    }\n",
       "</style>\n",
       "<table border=\"1\" class=\"dataframe\">\n",
       "  <thead>\n",
       "    <tr style=\"text-align: right;\">\n",
       "      <th></th>\n",
       "      <th>Model</th>\n",
       "      <th>Trainset Accuracy</th>\n",
       "      <th>Testset Accuracy</th>\n",
       "      <th>Trainset F1-Score</th>\n",
       "      <th>Testset F1-Score</th>\n",
       "      <th>Trainset RMSE</th>\n",
       "      <th>Testset RMSE</th>\n",
       "      <th>Trainset y_pred</th>\n",
       "      <th>Testset y_pred</th>\n",
       "    </tr>\n",
       "  </thead>\n",
       "  <tbody>\n",
       "    <tr>\n",
       "      <th>0</th>\n",
       "      <td>SVM</td>\n",
       "      <td>1.000000</td>\n",
       "      <td>0.125</td>\n",
       "      <td>1.000000</td>\n",
       "      <td>0.107143</td>\n",
       "      <td>0.000000</td>\n",
       "      <td>2.915476</td>\n",
       "      <td>[3.0, 1.0, 5.0, 9.0, 3.0, 5.0, 5.0, 4.0, 5.0, ...</td>\n",
       "      <td>[3.0, 5.0, 0.0, 5.0, 5.0, 5.0, 0.0, 3.0]</td>\n",
       "    </tr>\n",
       "    <tr>\n",
       "      <th>1</th>\n",
       "      <td>KMeans_SVM</td>\n",
       "      <td>0.233333</td>\n",
       "      <td>0.125</td>\n",
       "      <td>0.137778</td>\n",
       "      <td>0.041667</td>\n",
       "      <td>3.188521</td>\n",
       "      <td>2.828427</td>\n",
       "      <td>[3.0, 3.0, 3.0, 9.0, 9.0, 3.0, 3.0, 4.0, 8.0, ...</td>\n",
       "      <td>[3.0, 3.0, 3.0, 3.0, 3.0, 0.0, 0.0, 9.0]</td>\n",
       "    </tr>\n",
       "    <tr>\n",
       "      <th>2</th>\n",
       "      <td>Agg_SVM</td>\n",
       "      <td>1.000000</td>\n",
       "      <td>0.125</td>\n",
       "      <td>1.000000</td>\n",
       "      <td>0.107143</td>\n",
       "      <td>0.000000</td>\n",
       "      <td>2.915476</td>\n",
       "      <td>[3.0, 1.0, 5.0, 9.0, 3.0, 5.0, 5.0, 4.0, 5.0, ...</td>\n",
       "      <td>[3.0, 5.0, 0.0, 5.0, 5.0, 5.0, 0.0, 3.0]</td>\n",
       "    </tr>\n",
       "  </tbody>\n",
       "</table>\n",
       "</div>"
      ],
      "text/plain": [
       "        Model  Trainset Accuracy  Testset Accuracy  Trainset F1-Score  \\\n",
       "0         SVM           1.000000             0.125           1.000000   \n",
       "1  KMeans_SVM           0.233333             0.125           0.137778   \n",
       "2     Agg_SVM           1.000000             0.125           1.000000   \n",
       "\n",
       "   Testset F1-Score  Trainset RMSE  Testset RMSE  \\\n",
       "0          0.107143       0.000000      2.915476   \n",
       "1          0.041667       3.188521      2.828427   \n",
       "2          0.107143       0.000000      2.915476   \n",
       "\n",
       "                                     Trainset y_pred  \\\n",
       "0  [3.0, 1.0, 5.0, 9.0, 3.0, 5.0, 5.0, 4.0, 5.0, ...   \n",
       "1  [3.0, 3.0, 3.0, 9.0, 9.0, 3.0, 3.0, 4.0, 8.0, ...   \n",
       "2  [3.0, 1.0, 5.0, 9.0, 3.0, 5.0, 5.0, 4.0, 5.0, ...   \n",
       "\n",
       "                             Testset y_pred  \n",
       "0  [3.0, 5.0, 0.0, 5.0, 5.0, 5.0, 0.0, 3.0]  \n",
       "1  [3.0, 3.0, 3.0, 3.0, 3.0, 0.0, 0.0, 9.0]  \n",
       "2  [3.0, 5.0, 0.0, 5.0, 5.0, 5.0, 0.0, 3.0]  "
      ]
     },
     "execution_count": 43,
     "metadata": {},
     "output_type": "execute_result"
    }
   ],
   "source": [
    "model_comparision_data = {\n",
    "    'Model': ['SVM', 'KMeans_SVM', 'Agg_SVM'],\n",
    "    'Trainset Accuracy': [SVM_train_accuracy, KMeans_SVM_train_accuracy, Agg_SVM_train_accuracy],\n",
    "    'Testset Accuracy': [SVM_test_accuracy, KMeans_SVM_test_accuracy, Agg_SVM_test_accuracy],\n",
    "    'Trainset F1-Score': [SVM_train_f1, KMeans_SVM_train_f1, Agg_SVM_train_f1],\n",
    "    'Testset F1-Score': [SVM_test_f1, KMeans_SVM_test_f1, Agg_SVM_test_f1],\n",
    "    'Trainset RMSE': [SVM_rmse_train, KMeans_SVM_rmse_train, Agg_SVM_rmse_train],\n",
    "    'Testset RMSE': [SVM_rmse_test, KMeans_SVM_rmse_test, Agg_SVM_rmse_test],\n",
    "    'Trainset y_pred': [SVM_y_pred_train, KMeans_SVM_y_pred_train, Agg_SVM_y_pred_train],\n",
    "    'Testset y_pred':[SVM_y_pred_test, KMeans_SVM_y_pred_test, Agg_SVM_y_pred_test]\n",
    "}\n",
    "\n",
    "df_model_comparision = pd.DataFrame(model_comparision_data)\n",
    "\n",
    "df_model_comparision"
   ]
  },
  {
   "cell_type": "markdown",
   "metadata": {},
   "source": [
    "##### Model Comparison Result:\n",
    "Unfortunately, all models are overfitted since they all perform much better in the training set than in the test set. If we still have to pick out the \"best\" performing ones, SVM_model and Agg_SVM model both have perfect scores for trainset accuracy, f1-score, and rmse. While KMeans_SVM performs very poorly overall."
   ]
  },
  {
   "cell_type": "markdown",
   "metadata": {},
   "source": [
    "### 6. Conclusion and Discussion/Limitations\n",
    "Here are my answers to and discussions on the questions I raised for this project:\n",
    "1. What are the statistical characteristics of the features? How can they be interpreted in context?\n",
    "<br>Answer:<br> \n",
    "Bedtime (23.65 in avg.): The subject went to bed at 11:39 PM in average. <br>\n",
    "Waketime (7.93 in avg.): He woke up at 7:56 AM in average. <br>\n",
    "Sleep Length (8.27 in avg.): He slept for 8 hours 16 minutes per night in average. <br>\n",
    "Bedtime Temp (27.60 in avg.): The room temperature was 27.6 degree Celsius per night in average. <br>\n",
    "Wake Freq (0.44 in avg.): He woke up once per night in average. <br>\n",
    "Sleep Quality Level (4.17 in avg.): He experienced a sleep quality of level 4 in average. <br>\n",
    "Perceived Temp_Fine (about 73%): About 73% of the time, he perceived room temperature as fine when he went to bed. <br>\n",
    "Dream_Forgot (about 93%): About 93% of the time, he forgot his dream when he woke up in the morning. <br>\n",
    "Waked by Wife_No (about 76%): About 76% of the time, he was not waked by his wife during sleep. <br>\n",
    "Wife Nocturia_Yes (about 90%): About 90% of the time, his wife did usually experience nocturia during his sleep, which probably did not wake him, not knowing if it disturbed his sleep or not. <br>\n",
    "This is the most successful part of this project, which is improved by having done One-Hot encoding on the selected catagorical data.\n",
    "<br><br>\n",
    "2. How well does a SVM model predict the subject's sleep quality level (multi-class classification; sleep quality level 0 to 10) compared to predicting the subject's sleep quality (binary class; slept well or not) in the previous project?\n",
    "<br>Answer: The SVM model in the previous binary-class classification project performs well without overfitting. However, in this multi-class classification project, the SVM_model performs perfectly in predicting the subject's sleep quality level in the train set, but fails miserably in the test set; that is, it overfits severely.\n",
    "<br><br>\n",
    "3. Which model, the purely supervised SVM model or the unsupervised-supervised hybrid Kmeans_SVM or Agg_SVM models, turns out to be the best one for this multi-class classification task? How well does the best-performing model predict the subject's sleep quality level?\n",
    "<br>Answer: Since all the models overfit, technically none of them are good. If we still have to pick out the \"best\" performing ones, SVM_model and Agg_SVM model both have perfect scores for trainset accuracy, f1-score, and rmse, i.e. with scores 1, 1, and 0, respectively. While KMeans_SVM performs very poorly overall.\n",
    "<br><br>\n",
    "4. Does any of the models overfit? How can I fix this?\n",
    "<br>Answer: Unfortunately, all the models overfit. I tried to fix this issue by applying feature scaling to X_train and X_test to tackle the models' sensitivity on distance metrics, and running 5-fold cross validations to find the best suited hyperparameters. In addition, I  manually set the hyperparameter 'class_weight' in SVM as'balanced' to balance the classes. However, the models still overfit. I also tried but failed to split the data using stratificated sampling, because y_test does not contain all the class labels. More advanced resampling technique like SMOTE also turned out to be not applicable here, since a few minority classes has only 1 instance each. Random oversampling and other resampling techniques will introduce higher risk of overfitting. Thus, gathering more real-world samples is likely the only solution to this issue. <br>\n",
    "\n",
    "If I were to conduct this multi-class classification project again, I will ask the subject to record at least 3 months of his sleep instances in order to get a larger, more balanced dataset. I believe this will fix the issue of model overfitting, and will result in models with good performances. <br>\n",
    "\n",
    "Nevertheless, your suggestions for techniques to mitigate the impact of such an imbalanced, small dataset are very welcomed!"
   ]
  },
  {
   "cell_type": "markdown",
   "metadata": {},
   "source": [
    "### 7. References\n"
   ]
  },
  {
   "cell_type": "markdown",
   "metadata": {},
   "source": [
    "SVM in sklearn: https://scikit-learn.org/stable/modules/generated/sklearn.svm.SVC.html <br>\n",
    "K-means Clustering in sklearn: https://scikit-learn.org/stable/modules/generated/sklearn.cluster.KMeans.html <br>\n",
    "Agglomerative Clustering in sklearn: https://scikit-learn.org/stable/modules/generated/sklearn.cluster.AgglomerativeClustering.html <br>\n",
    "GridSearchCV in sklearn: https://scikit-learn.org/stable/modules/generated/sklearn.model_selection.GridSearchCV.html <br>\n",
    "One-Hot Encoding: https://machinelearningmastery.com/why-one-hot-encode-data-in-machine-learning/ <br>\n",
    "SMOTE: https://imbalanced-learn.org/stable/references/generated/imblearn.over_sampling.SMOTE.html <br>\n",
    "Resampling strategies for imbalanced datasets: https://www.kaggle.com/code/rafjaa/resampling-strategies-for-imbalanced-datasets <br>\n",
    "10 Techniques to Solve Imbalanced Classes in Machine Learning (Updated 2023): https://www.analyticsvidhya.com/blog/2020/07/10-techniques-to-deal-with-class-imbalance-in-machine-learning/"
   ]
  }
 ],
 "metadata": {
  "kernelspec": {
   "display_name": "Python 3",
   "language": "python",
   "name": "python3"
  },
  "language_info": {
   "codemirror_mode": {
    "name": "ipython",
    "version": 3
   },
   "file_extension": ".py",
   "mimetype": "text/x-python",
   "name": "python",
   "nbconvert_exporter": "python",
   "pygments_lexer": "ipython3",
   "version": "3.7.6"
  }
 },
 "nbformat": 4,
 "nbformat_minor": 4
}
